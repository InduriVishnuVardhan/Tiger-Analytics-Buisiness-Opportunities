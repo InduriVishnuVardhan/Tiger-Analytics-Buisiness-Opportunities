{
 "cells": [
  {
   "cell_type": "markdown",
   "metadata": {},
   "source": [
    "# Purpose\n",
    "This notebook describes the typical activities carried out  at the beginning to a project / thread when customer shares new data. We will be trying to understand the tables, columns and information flow. Typically we also look for data issues and confirm with respective owners for resolution. At the end of this activity, the data sources and their treatment is finalized. Code in this notebook will not be part of the production code.\n",
    "\n",
    "This data can be downloaded from\n",
    "[here](https://drive.google.com/file/d/11DqcBxxEcn3QA4YvPQmmExBm-m6AgUQ_/view?usp=sharing)\n",
    "\n",
    "**NOTE**:\n",
    "Download the data from the above link, and copy the extracted csv files to the path `data/raw/sales/` (relative to root of the code archive folder). Make sure to copy the files before continuing on with the rest of the notebook.\n",
    "\n",
    "# Initialization"
   ]
  },
  {
   "cell_type": "code",
   "execution_count": null,
   "metadata": {},
   "outputs": [],
   "source": [
    "%load_ext autoreload\n",
    "%autoreload 2"
   ]
  },
  {
   "cell_type": "code",
   "execution_count": null,
   "metadata": {},
   "outputs": [],
   "source": [
    "%%time\n",
    "\n",
    "# Third-party imports\n",
    "import os.path as op\n",
    "import pandas as pd\n",
    "import great_expectations as ge\n",
    "\n",
    "# Project imports\n",
    "from ta_lib.core.api import display_as_tabs, initialize_environment\n",
    "\n",
    "# Initialization\n",
    "initialize_environment(debug=False, hide_warnings=True)"
   ]
  },
  {
   "cell_type": "markdown",
   "metadata": {},
   "source": [
    "# Data\n",
    "\n",
    "## Background\n",
    "\n",
    "Customer is a distributor of electronic devices. They partner with manufacturers, carriers and refurbishers and sell across to  retailers. The selling price is the outcome of negotiation between sales representatives and retailers. Customer wants to understand the selling price variation and determine  optimal pricing with Machine Learning."
   ]
  },
  {
   "cell_type": "code",
   "execution_count": null,
   "metadata": {},
   "outputs": [],
   "source": [
    "from ta_lib.core.api import create_context, list_datasets, load_dataset"
   ]
  },
  {
   "cell_type": "code",
   "execution_count": null,
   "metadata": {},
   "outputs": [],
   "source": [
    "config_path = op.join('conf', 'config.yml')\n",
    "context = create_context(config_path)"
   ]
  },
  {
   "cell_type": "code",
   "execution_count": null,
   "metadata": {},
   "outputs": [],
   "source": [
    "list_datasets(context)"
   ]
  },
  {
   "cell_type": "code",
   "execution_count": null,
   "metadata": {},
   "outputs": [],
   "source": [
    "# load datasets\n",
    "orders_df = load_dataset(context, 'raw/orders')\n",
    "prod_df = load_dataset(context, 'raw/product')"
   ]
  },
  {
   "cell_type": "markdown",
   "metadata": {},
   "source": [
    "# Exploratory Analysis\n",
    "\n",
    "Given the raw data from data ingestion, we would now like to explore and learn more details about the data.\n",
    "\n",
    "\n",
    "The output of the step would be a summary report and discussion of any pertinent findings.\n"
   ]
  },
  {
   "cell_type": "code",
   "execution_count": 7,
   "metadata": {},
   "outputs": [],
   "source": [
    "# Import the eda API\n",
    "import ta_lib.eda.api as eda"
   ]
  },
  {
   "cell_type": "markdown",
   "metadata": {},
   "source": [
    "## Variable summary"
   ]
  },
  {
   "cell_type": "code",
   "execution_count": 8,
   "metadata": {},
   "outputs": [
    {
     "data": {},
     "metadata": {},
     "output_type": "display_data"
    },
    {
     "data": {
      "application/vnd.holoviews_exec.v0+json": "",
      "text/html": [
       "<div id='1001'>\n",
       "\n",
       "\n",
       "\n",
       "\n",
       "\n",
       "  <div class=\"bk-root\" id=\"e6a87a1c-3a81-4873-80f5-da242727c02a\" data-root-id=\"1001\"></div>\n",
       "</div>\n",
       "<script type=\"application/javascript\">(function(root) {\n",
       "  function embed_document(root) {\n",
       "  var docs_json = {\"b89ceaec-9c04-4027-b407-d39ee1a685e9\":{\"roots\":{\"references\":[{\"attributes\":{\"child\":{\"id\":\"1002\"},\"name\":\"orders\",\"title\":\"orders\"},\"id\":\"1003\",\"type\":\"Panel\"},{\"attributes\":{\"margin\":[5,5,5,5],\"name\":\"product\",\"text\":\"&lt;pre&gt;(13545, 9)&lt;/pre&gt;\"},\"id\":\"1004\",\"type\":\"panel.models.markup.HTML\"},{\"attributes\":{\"margin\":[5,5,5,5],\"name\":\"orders\",\"text\":\"&lt;pre&gt;(174813, 25)&lt;/pre&gt;\"},\"id\":\"1002\",\"type\":\"panel.models.markup.HTML\"},{\"attributes\":{\"child\":{\"id\":\"1004\"},\"name\":\"product\",\"title\":\"product\"},\"id\":\"1005\",\"type\":\"Panel\"},{\"attributes\":{\"margin\":[0,0,0,0],\"tabs\":[{\"id\":\"1003\"},{\"id\":\"1005\"}]},\"id\":\"1001\",\"type\":\"Tabs\"},{\"attributes\":{\"client_comm_id\":\"688e8ebf4eb34b73a32ede4916b87b5f\",\"comm_id\":\"f149bbf3a877486aa6b38babc516fa39\",\"plot_id\":\"1001\"},\"id\":\"1006\",\"type\":\"panel.models.comm_manager.CommManager\"}],\"root_ids\":[\"1001\",\"1006\"]},\"title\":\"Bokeh Application\",\"version\":\"2.2.3\"}};\n",
       "  var render_items = [{\"docid\":\"b89ceaec-9c04-4027-b407-d39ee1a685e9\",\"root_ids\":[\"1001\"],\"roots\":{\"1001\":\"e6a87a1c-3a81-4873-80f5-da242727c02a\"}}];\n",
       "  root.Bokeh.embed.embed_items_notebook(docs_json, render_items);\n",
       "  }\n",
       "if (root.Bokeh !== undefined) {\n",
       "    embed_document(root);\n",
       "  } else {\n",
       "    var attempts = 0;\n",
       "    var timer = setInterval(function(root) {\n",
       "      if (root.Bokeh !== undefined) {\n",
       "        clearInterval(timer);\n",
       "        embed_document(root);\n",
       "      } else if (document.readyState == \"complete\") {\n",
       "        attempts++;\n",
       "        if (attempts > 100) {\n",
       "          clearInterval(timer);\n",
       "          console.log(\"Bokeh: ERROR: Unable to run BokehJS code because BokehJS library is missing\");\n",
       "        }\n",
       "      }\n",
       "    }, 10, root)\n",
       "  }\n",
       "})(window);</script>"
      ],
      "text/plain": [
       "Tabs\n",
       "    [0] Str(tuple, name='orders')\n",
       "    [1] Str(tuple, name='product')"
      ]
     },
     "execution_count": 8,
     "metadata": {
      "application/vnd.holoviews_exec.v0+json": {
       "id": "1001"
      }
     },
     "output_type": "execute_result"
    }
   ],
   "source": [
    "display_as_tabs([('orders', orders_df.shape), ('product', prod_df.shape)])"
   ]
  },
  {
   "cell_type": "code",
   "execution_count": 9,
   "metadata": {},
   "outputs": [
    {
     "data": {},
     "metadata": {},
     "output_type": "display_data"
    },
    {
     "data": {
      "application/vnd.holoviews_exec.v0+json": "",
      "text/html": [
       "<div id='1007'>\n",
       "\n",
       "\n",
       "\n",
       "\n",
       "\n",
       "  <div class=\"bk-root\" id=\"c156bc07-f96f-4143-ac66-28660c19394e\" data-root-id=\"1007\"></div>\n",
       "</div>\n",
       "<script type=\"application/javascript\">(function(root) {\n",
       "  function embed_document(root) {\n",
       "  var docs_json = {\"8d2c8e5d-be1e-4033-94eb-19529f3ee3ca\":{\"roots\":{\"references\":[{\"attributes\":{},\"id\":\"1044\",\"type\":\"StringFormatter\"},{\"attributes\":{\"editor\":{\"id\":\"1030\"},\"field\":\"Samples\",\"formatter\":{\"id\":\"1029\"},\"title\":\"Samples\",\"width\":null},\"id\":\"1031\",\"type\":\"TableColumn\"},{\"attributes\":{\"source\":{\"id\":\"1038\"}},\"id\":\"1065\",\"type\":\"CDSView\"},{\"attributes\":{\"columns\":[{\"id\":\"1041\"},{\"id\":\"1046\"},{\"id\":\"1051\"},{\"id\":\"1056\"},{\"id\":\"1061\"}],\"editable\":true,\"fit_columns\":true,\"height\":255,\"index_position\":null,\"margin\":[5,10,5,10],\"name\":\"product\",\"source\":{\"id\":\"1038\"},\"view\":{\"id\":\"1065\"}},\"id\":\"1064\",\"type\":\"DataTable\"},{\"attributes\":{},\"id\":\"1066\",\"type\":\"Selection\"},{\"attributes\":{\"columns\":[{\"id\":\"1011\"},{\"id\":\"1016\"},{\"id\":\"1021\"},{\"id\":\"1026\"},{\"id\":\"1031\"}],\"editable\":true,\"fit_columns\":true,\"height\":655,\"index_position\":null,\"margin\":[5,10,5,10],\"name\":\"orders\",\"source\":{\"id\":\"1008\"},\"view\":{\"id\":\"1035\"}},\"id\":\"1034\",\"type\":\"DataTable\"},{\"attributes\":{},\"id\":\"1040\",\"type\":\"StringEditor\"},{\"attributes\":{\"editor\":{\"id\":\"1010\"},\"field\":\"index\",\"formatter\":{\"id\":\"1009\"},\"title\":\"index\",\"width\":null},\"id\":\"1011\",\"type\":\"TableColumn\"},{\"attributes\":{},\"id\":\"1049\",\"type\":\"StringFormatter\"},{\"attributes\":{\"source\":{\"id\":\"1008\"}},\"id\":\"1035\",\"type\":\"CDSView\"},{\"attributes\":{},\"id\":\"1010\",\"type\":\"StringEditor\"},{\"attributes\":{\"editor\":{\"id\":\"1050\"},\"field\":\"Datatype\",\"formatter\":{\"id\":\"1049\"},\"title\":\"Datatype\",\"width\":null},\"id\":\"1051\",\"type\":\"TableColumn\"},{\"attributes\":{},\"id\":\"1050\",\"type\":\"StringEditor\"},{\"attributes\":{\"client_comm_id\":\"c7c9551f48d24628891b55ba1c7c6d23\",\"comm_id\":\"ecdc5f8aa2814c0280e4ed030819fd2a\",\"plot_id\":\"1007\"},\"id\":\"1080\",\"type\":\"panel.models.comm_manager.CommManager\"},{\"attributes\":{\"margin\":[0,0,0,0],\"tabs\":[{\"id\":\"1037\"},{\"id\":\"1067\"}]},\"id\":\"1007\",\"type\":\"Tabs\"},{\"attributes\":{\"child\":{\"id\":\"1064\"},\"name\":\"product\",\"title\":\"product\"},\"id\":\"1067\",\"type\":\"Panel\"},{\"attributes\":{\"data\":{\"Datatype\":[\"object\",\"object\",\"int64\",\"object\",\"int64\",\"object\",\"object\",\"object\",\"object\",\"int64\",\"int64\",\"object\",\"object\",\"object\",\"object\",\"int64\",\"float64\",\"float64\",\"float64\",\"float64\",\"float64\",\"object\",\"object\",\"object\",\"object\"],\"No of Unique\":[\"12\",\"227\",\"8903\",\"211\",\"8798\",\"4\",\"16\",\"13850\",\"13549\",\"16\",\"1017\",\"15\",\"210\",\"15\",\"3\",\"929\",\"45616\",\"1872\",\"12557\",\"68029\",\"54734\",\"25\",\"6\",\"135\",\"10\"],\"Samples\":[\"['apple', 'online', 'airtel', 'fpc', 'corporate']\",\"['04/11/2019', '05/11/2019', '14/01/2019', '28/06/2019', '24/07/2019']\",\"[54746876, 54746877, 54746886, 54746879, 54746884]\",\"['Compal Electronics', 'Miniwiz', 'Hsin Tung Yang', 'Apacer', 'E.SUN Commercial Bank']\",\"[31336494, 31343067, 31585791, 31421952, 31579640]\",\"['SO  ', 'CR  ', 'SP  ', 'S1  ']\",\"['LMB   ', 'BMI   ', 'CCE   ', 'IYE   ', 'JFO   ']\",\"['IPMI464G000WF14G40', 'amlIR32S000WF80610', 'UIP864GCUM415TSPTG30', 'UIP732CUM415T000R10', 'UIP6SC32UC655aml000R40']\",\"['APL IPDM4 GLD 64G A1538 EST', 'APL IPDAR SLV 32G WIFI BSTK', 'APL IP8 GLD 64G A1863 DST', 'APL IP7 RGLD 32G A1660 BST', 'APL IP6S RGLD 32G A1688 EST']\",\"[900, 904, 135, 922, 513]\",\"[30000, 14000, 64000, 1000, 61000]\",\"['APL   ', 'SMS   ', 'GOO   ', 'LGH   ', 'SNY   ']\",\"['A1538 ', '      ', 'A1863 ', 'A1660 ', 'A1688 ']\",\"['0', 'BLM   ', 'RGW   ', 'TMO   ', 'TEL   ']\",\"['ULD', 'LKD', '   ']\",\"[3, 126, 1, 11, 2]\",\"[91.304, 65.377, 160.571, 127.777, 55.499]\",\"[95.0, 105.0, 190.0, 150.0, 56.0]\",\"[285.0, 315.0, 23940.0, 450.0, 56.0]\",\"[273.91, 196.13, 20232.02, 383.33, 55.5]\",\"[11.09, 118.87, 3707.98, 66.67, 0.5]\",\"['Emerch', 'Bmerch', 'Dmerch', 'CcommodRC', 'Cmerch']\",\"['WFI', 'MM ', 'GSM', 'NA ', 'LTE']\",\"['IPAD MINI 4', 'IPAD AIR', 'IPHONE 8', 'IPHONE 7', 'IPHONE 6S']\",\"['GRADE E', 'GRADE B', 'GRADE D', 'GRADE C', 'GRADE B2']\"],\"Variable Name\":[\"Channel\",\"LedgerDate\",\"InvoiceNo\",\"Customername\",\"Orderno\",\"OrderType\",\"SalesPerson\",\"InventoryID\",\"SKU\",\"BusinessUnit\",\"Line\",\"Manufacturer\",\"Platforms\",\"Carrier\",\"LockStatus\",\"Quantity\",\"UnitCost\",\"UnitPrice\",\"SellingPrice\",\"SellingCost\",\"GP\",\"Condition\",\"Technology\",\"Ext_ModelFamily\",\"Ext_Grade\"],\"index\":[\"Channel\",\"LedgerDate\",\"InvoiceNo\",\"Customername\",\"Orderno\",\"OrderType\",\"SalesPerson\",\"InventoryID\",\"SKU\",\"BusinessUnit\",\"Line\",\"Manufacturer\",\"Platforms\",\"Carrier\",\"LockStatus\",\"Quantity\",\"UnitCost\",\"UnitPrice\",\"SellingPrice\",\"SellingCost\",\"GP\",\"Condition\",\"Technology\",\"Ext_ModelFamily\",\"Ext_Grade\"]},\"selected\":{\"id\":\"1036\"},\"selection_policy\":{\"id\":\"1069\"}},\"id\":\"1008\",\"type\":\"ColumnDataSource\"},{\"attributes\":{},\"id\":\"1036\",\"type\":\"Selection\"},{\"attributes\":{},\"id\":\"1019\",\"type\":\"StringFormatter\"},{\"attributes\":{},\"id\":\"1071\",\"type\":\"UnionRenderers\"},{\"attributes\":{\"editor\":{\"id\":\"1020\"},\"field\":\"Datatype\",\"formatter\":{\"id\":\"1019\"},\"title\":\"Datatype\",\"width\":null},\"id\":\"1021\",\"type\":\"TableColumn\"},{\"attributes\":{\"editor\":{\"id\":\"1045\"},\"field\":\"Variable Name\",\"formatter\":{\"id\":\"1044\"},\"title\":\"Variable Name\",\"width\":null},\"id\":\"1046\",\"type\":\"TableColumn\"},{\"attributes\":{},\"id\":\"1054\",\"type\":\"StringFormatter\"},{\"attributes\":{},\"id\":\"1069\",\"type\":\"UnionRenderers\"},{\"attributes\":{},\"id\":\"1020\",\"type\":\"StringEditor\"},{\"attributes\":{\"child\":{\"id\":\"1034\"},\"name\":\"orders\",\"title\":\"orders\"},\"id\":\"1037\",\"type\":\"Panel\"},{\"attributes\":{\"editor\":{\"id\":\"1055\"},\"field\":\"No of Unique\",\"formatter\":{\"id\":\"1054\"},\"title\":\"No of Unique\",\"width\":null},\"id\":\"1056\",\"type\":\"TableColumn\"},{\"attributes\":{},\"id\":\"1014\",\"type\":\"StringFormatter\"},{\"attributes\":{},\"id\":\"1055\",\"type\":\"StringEditor\"},{\"attributes\":{\"data\":{\"Datatype\":[\"object\",\"object\",\"object\",\"object\",\"object\",\"object\",\"object\",\"object\",\"object\"],\"No of Unique\":[\"13544\",\"242\",\"38\",\"12\",\"37\",\"7\",\"12\",\"5\",\"3\"],\"Samples\":[\"['APL 616GB GLD ESTK UNL', 'APL 732GB SLV B2STK UNL', 'APL 8P256G SLV CSTK UNL', 'APL AWG1 38MM STNSTL CST', 'APL AWG1 42MM STNSTL CST']\",\"['616GB ', '732GB ', '8P256G', 'AWG1  ', 'AWS1AL']\",\"['GOLD  ', 'SILVER', 'STNSTL', 'GRAY  ', 'ROSGLD']\",\"['16GB      ', '32GB      ', '64GB      ', '38MM      ', '42MM      ']\",\"['GOLD  ', 'SILVER', 'STAINLESS STEEL', 'GRAY  ', 'ROSGLD']\",\"['16GB', '32GB', '64GB', '128GB', '256GB']\",\"['APPLE', 'SAMSUNG', 'TCT/ALCATEL', 'ASUS', 'GOOGLE']\",\"['BBTI', 'APPLE BBTI', 'ASIS', 'CPO', 'FPC']\",\"['UNTESTED', 'TESTED', 'REVIEW']\"],\"Variable Name\":[\"SKU\",\"ModelFamily\",\"color\",\"MemorySize\",\"Ext_Color\",\"Ext_memorySize\",\"Brand\",\"SourceChannel\",\"FunctionalStatus\"],\"index\":[\"SKU\",\"ModelFamily\",\"color\",\"MemorySize\",\"Ext_Color\",\"Ext_memorySize\",\"Brand\",\"SourceChannel\",\"FunctionalStatus\"]},\"selected\":{\"id\":\"1066\"},\"selection_policy\":{\"id\":\"1071\"}},\"id\":\"1038\",\"type\":\"ColumnDataSource\"},{\"attributes\":{},\"id\":\"1024\",\"type\":\"StringFormatter\"},{\"attributes\":{\"editor\":{\"id\":\"1025\"},\"field\":\"No of Unique\",\"formatter\":{\"id\":\"1024\"},\"title\":\"No of Unique\",\"width\":null},\"id\":\"1026\",\"type\":\"TableColumn\"},{\"attributes\":{\"editor\":{\"id\":\"1040\"},\"field\":\"index\",\"formatter\":{\"id\":\"1039\"},\"title\":\"index\",\"width\":null},\"id\":\"1041\",\"type\":\"TableColumn\"},{\"attributes\":{},\"id\":\"1015\",\"type\":\"StringEditor\"},{\"attributes\":{},\"id\":\"1059\",\"type\":\"StringFormatter\"},{\"attributes\":{},\"id\":\"1025\",\"type\":\"StringEditor\"},{\"attributes\":{\"editor\":{\"id\":\"1015\"},\"field\":\"Variable Name\",\"formatter\":{\"id\":\"1014\"},\"title\":\"Variable Name\",\"width\":null},\"id\":\"1016\",\"type\":\"TableColumn\"},{\"attributes\":{\"editor\":{\"id\":\"1060\"},\"field\":\"Samples\",\"formatter\":{\"id\":\"1059\"},\"title\":\"Samples\",\"width\":null},\"id\":\"1061\",\"type\":\"TableColumn\"},{\"attributes\":{},\"id\":\"1039\",\"type\":\"StringFormatter\"},{\"attributes\":{},\"id\":\"1009\",\"type\":\"StringFormatter\"},{\"attributes\":{},\"id\":\"1060\",\"type\":\"StringEditor\"},{\"attributes\":{},\"id\":\"1030\",\"type\":\"StringEditor\"},{\"attributes\":{},\"id\":\"1045\",\"type\":\"StringEditor\"},{\"attributes\":{},\"id\":\"1029\",\"type\":\"StringFormatter\"}],\"root_ids\":[\"1007\",\"1080\"]},\"title\":\"Bokeh Application\",\"version\":\"2.2.3\"}};\n",
       "  var render_items = [{\"docid\":\"8d2c8e5d-be1e-4033-94eb-19529f3ee3ca\",\"root_ids\":[\"1007\"],\"roots\":{\"1007\":\"c156bc07-f96f-4143-ac66-28660c19394e\"}}];\n",
       "  root.Bokeh.embed.embed_items_notebook(docs_json, render_items);\n",
       "  }\n",
       "if (root.Bokeh !== undefined) {\n",
       "    embed_document(root);\n",
       "  } else {\n",
       "    var attempts = 0;\n",
       "    var timer = setInterval(function(root) {\n",
       "      if (root.Bokeh !== undefined) {\n",
       "        clearInterval(timer);\n",
       "        embed_document(root);\n",
       "      } else if (document.readyState == \"complete\") {\n",
       "        attempts++;\n",
       "        if (attempts > 100) {\n",
       "          clearInterval(timer);\n",
       "          console.log(\"Bokeh: ERROR: Unable to run BokehJS code because BokehJS library is missing\");\n",
       "        }\n",
       "      }\n",
       "    }, 10, root)\n",
       "  }\n",
       "})(window);</script>"
      ],
      "text/plain": [
       "Tabs\n",
       "    [0] DataFrame(name='orders', value=                   Variabl...)\n",
       "    [1] DataFrame(name='product', value=                     Varia...)"
      ]
     },
     "execution_count": 9,
     "metadata": {
      "application/vnd.holoviews_exec.v0+json": {
       "id": "1007"
      }
     },
     "output_type": "execute_result"
    }
   ],
   "source": [
    "sum1 = eda.get_variable_summary(orders_df)\n",
    "sum2 = eda.get_variable_summary(prod_df)\n",
    "\n",
    "display_as_tabs([('orders', sum1), ('product', sum2)])"
   ]
  },
  {
   "cell_type": "code",
   "execution_count": 10,
   "metadata": {},
   "outputs": [
    {
     "data": {
      "text/plain": [
       "Channel             0\n",
       "LedgerDate          0\n",
       "InvoiceNo           0\n",
       "Customername        0\n",
       "Orderno             0\n",
       "OrderType           0\n",
       "SalesPerson         0\n",
       "InventoryID         0\n",
       "SKU                 0\n",
       "BusinessUnit        0\n",
       "Line                0\n",
       "Manufacturer        0\n",
       "Platforms           0\n",
       "Carrier             0\n",
       "LockStatus          0\n",
       "Quantity            0\n",
       "UnitCost            0\n",
       "UnitPrice           0\n",
       "SellingPrice        0\n",
       "SellingCost         0\n",
       "GP                  0\n",
       "Condition           0\n",
       "Technology          0\n",
       "Ext_ModelFamily    87\n",
       "Ext_Grade           1\n",
       "dtype: int64"
      ]
     },
     "execution_count": 10,
     "metadata": {},
     "output_type": "execute_result"
    }
   ],
   "source": [
    "orders_df.isna().sum()"
   ]
  },
  {
   "cell_type": "markdown",
   "metadata": {},
   "source": [
    "**Dev NOTES**\n",
    "\n",
    "<details>\n",
    "1. Datatypes : We have both numeric and other types. The bulk of them seem to be numeric. `Numeric` is defined to be one of [float|int|date] and the rest are categorized as `Others`. A column is assumed to have `date` values if it has the string `date` in the column name.\n"
   ]
  },
  {
   "cell_type": "markdown",
   "metadata": {},
   "source": [
    "## Merging\n",
    "\n",
    "We can merge orders table with prod table on SKU. Let us check first-cut cardinality issues. \n",
    "\n",
    "### Expected data validation rules"
   ]
  },
  {
   "cell_type": "markdown",
   "metadata": {},
   "source": [
    "1. Quantity should be an integer\n",
    "2. Quantity * UnitCost = SellingCost\n",
    "3. Quantity * UnitPrice = SellingPrice"
   ]
  },
  {
   "cell_type": "code",
   "execution_count": 11,
   "metadata": {},
   "outputs": [],
   "source": [
    "verification_dict = {}\n",
    "orders_df = ge.from_pandas(orders_df)"
   ]
  },
  {
   "cell_type": "markdown",
   "metadata": {},
   "source": [
    "#### Rule 1 verification"
   ]
  },
  {
   "cell_type": "code",
   "execution_count": 12,
   "metadata": {},
   "outputs": [
    {
     "name": "stdout",
     "output_type": "stream",
     "text": [
      "Rule 1 passed\n"
     ]
    }
   ],
   "source": [
    "verification_dict[\"rule_1_check\"] = orders_df.expect_column_values_to_be_of_type(\"Quantity\", \"int64\", mostly=None, \n",
    "                                             result_format=\"BASIC\", include_config=True).to_json_dict()\n",
    "\n",
    "if verification_dict[\"rule_1_check\"][\"success\"]:\n",
    "    print(\"Rule 1 passed\")\n",
    "else:\n",
    "    print(\"Rule 1 failed\")"
   ]
  },
  {
   "cell_type": "markdown",
   "metadata": {},
   "source": [
    "#### Rule 2 verification"
   ]
  },
  {
   "cell_type": "code",
   "execution_count": 13,
   "metadata": {},
   "outputs": [
    {
     "name": "stdout",
     "output_type": "stream",
     "text": [
      "Rule 2 failed\n"
     ]
    }
   ],
   "source": [
    "orders_df[\"selling_cal\"] = orders_df[\"Quantity\"] * orders_df[\"UnitCost\"]\n",
    "orders_df.selling_cal = orders_df.selling_cal.round()\n",
    "orders_df[\"act_selling_round\"] = orders_df.SellingCost.round()\n",
    "verification_dict[\"rule_2_check\"] = orders_df.expect_column_pair_values_to_be_equal(\"selling_cal\", \"act_selling_round\", mostly=None, \n",
    "                                             result_format=\"BASIC\", include_config=True).to_json_dict()\n",
    "\n",
    "if verification_dict[\"rule_2_check\"][\"success\"]:\n",
    "    print(\"Rule 2 passed\")\n",
    "else:\n",
    "    print(\"Rule 2 failed\")"
   ]
  },
  {
   "cell_type": "markdown",
   "metadata": {},
   "source": [
    "#### Rule 3 verification"
   ]
  },
  {
   "cell_type": "code",
   "execution_count": 14,
   "metadata": {},
   "outputs": [
    {
     "name": "stdout",
     "output_type": "stream",
     "text": [
      "Rule 3 failed\n"
     ]
    }
   ],
   "source": [
    "orders_df[\"selling_cal\"] = orders_df[\"Quantity\"] * orders_df[\"UnitPrice\"]\n",
    "orders_df.selling_cal = orders_df.selling_cal.round()\n",
    "orders_df[\"act_selling_round\"] = orders_df.SellingPrice.round()\n",
    "verification_dict[\"rule_3_check\"] = orders_df.expect_column_pair_values_to_be_equal(\"selling_cal\", \"act_selling_round\", mostly=None, \n",
    "                                             result_format=\"BASIC\", include_config=True).to_json_dict()\n",
    "\n",
    "if verification_dict[\"rule_3_check\"][\"success\"]:\n",
    "    print(\"Rule 3 passed\")\n",
    "else:\n",
    "    print(\"Rule 3 failed\")"
   ]
  },
  {
   "cell_type": "markdown",
   "metadata": {},
   "source": [
    "#### Rule 2,3"
   ]
  },
  {
   "cell_type": "markdown",
   "metadata": {},
   "source": [
    "Ideally by logic cost * units should give the total cost, however there are some orders where this condition is not matching. We should confirm these condition from client.\n",
    "\n",
    "Similar goes for Price * units"
   ]
  },
  {
   "cell_type": "code",
   "execution_count": 15,
   "metadata": {},
   "outputs": [],
   "source": [
    "# Back to Pandas\n",
    "orders_df = orders_df.drop('selling_cal', 1)\n",
    "orders_df = orders_df.drop('act_selling_round', 1)\n",
    "orders_df = pd.DataFrame(orders_df)"
   ]
  },
  {
   "cell_type": "markdown",
   "metadata": {},
   "source": [
    "### Table cardinality"
   ]
  },
  {
   "cell_type": "code",
   "execution_count": 16,
   "metadata": {},
   "outputs": [
    {
     "data": {
      "text/plain": [
       "{'A-B': 5, 'B-A': 0, 'AuB': 13549, 'A^B': 13544}"
      ]
     },
     "execution_count": 16,
     "metadata": {},
     "output_type": "execute_result"
    }
   ],
   "source": [
    "from  ta_lib.core.api import setanalyse\n",
    "\n",
    "setanalyse(orders_df.SKU.tolist(),prod_df.SKU.tolist())"
   ]
  },
  {
   "cell_type": "markdown",
   "metadata": {},
   "source": [
    "This represents a venn diagram on two lists. Left list is `A` & right one is `B`. `A-B` implies that are five SKUs in orders_df missing in product master. We can find them using unsimplied version.\n",
    "\n",
    "Let us look at the set `A-B`."
   ]
  },
  {
   "cell_type": "code",
   "execution_count": 17,
   "metadata": {},
   "outputs": [
    {
     "data": {
      "text/plain": [
       "{'APL AWS3AL(G) 42MM GLD CST',\n",
       " 'APL AWS3AL(G+C) 38MM GRY CST',\n",
       " 'SP3 SMS N920 NOTE5 32G GLD DST',\n",
       " 'SP3 SMS S8+ G955 BLK BER SPT',\n",
       " 'UNLKD SONY XPERIA XZS BLK 32GB'}"
      ]
     },
     "execution_count": 17,
     "metadata": {},
     "output_type": "execute_result"
    }
   ],
   "source": [
    "missings_master_skus = setanalyse(orders_df.SKU.tolist(),prod_df.SKU.tolist(),simplify=False)['A-B']\n",
    "missings_master_skus"
   ]
  },
  {
   "cell_type": "code",
   "execution_count": 18,
   "metadata": {},
   "outputs": [
    {
     "name": "stdout",
     "output_type": "stream",
     "text": [
      "Records affected due to missing keys are 402 accounting to 0.23% of orders\n"
     ]
    }
   ],
   "source": [
    "import numpy as np\n",
    "print(('Records affected due to missing keys are {0} accounting to {1}% of orders').format(\n",
    "    orders_df.SKU.isin(missings_master_skus).sum(),np.round(orders_df.SKU.isin(missings_master_skus).mean()*100,2)))"
   ]
  },
  {
   "cell_type": "markdown",
   "metadata": {},
   "source": [
    "**Since missing keys are very less we can proceed with inner join**"
   ]
  },
  {
   "cell_type": "markdown",
   "metadata": {},
   "source": [
    "**Dev NOTES**\n",
    "\n",
    "<details>\n",
    "1. Cardinality with mulitple keys: If you have more than one key use setanalyse_df. You can pass dataframes instead of lists and the key columns\n",
    "2. Excess master data (if `B-A` >0 in above example) will not be concern\n",
    "3. If the `A-B` is larger, please check with client for alternative data sources. In case of left join keep a stragey for imputing.\n"
   ]
  },
  {
   "cell_type": "markdown",
   "metadata": {},
   "source": [
    "### Master uniqueness\n",
    "\n",
    "Product master is expected to have non duplicate primary keys. Let us verify them."
   ]
  },
  {
   "cell_type": "code",
   "execution_count": 19,
   "metadata": {},
   "outputs": [
    {
     "name": "stdout",
     "output_type": "stream",
     "text": [
      "Found 1 duplicates in master. Sample duplicates are:\n",
      "                              SKU  Frequency\n",
      "0  UNLKD SONY XPERIA XZS BLUE 32G          2\n"
     ]
    }
   ],
   "source": [
    "# Snippet \n",
    "df_freq = prod_df.SKU.value_counts().reset_index()\n",
    "df_freq.columns = ['SKU','Frequency']\n",
    "fil_ = df_freq.Frequency>1\n",
    "if fil_.sum() > 0:\n",
    "    print((\"Found {0} duplicates in master. Sample duplicates are:\").format(fil_.sum()))\n",
    "    print(df_freq[fil_].head())\n",
    "else:\n",
    "    print(\"No duplciates in primary key\")"
   ]
  },
  {
   "cell_type": "code",
   "execution_count": 20,
   "metadata": {},
   "outputs": [
    {
     "data": {
      "text/plain": [
       "13545"
      ]
     },
     "execution_count": 20,
     "metadata": {},
     "output_type": "execute_result"
    }
   ],
   "source": [
    "len(prod_df)"
   ]
  },
  {
   "cell_type": "code",
   "execution_count": 21,
   "metadata": {},
   "outputs": [
    {
     "name": "stdout",
     "output_type": "stream",
     "text": [
      "No. of rows before dropping duplicate SKUs: 13545\n",
      "No. of rows after dropping duplicate SKUs: 13544\n"
     ]
    }
   ],
   "source": [
    "# Dropping inconsistent records\n",
    "print((\"No. of rows before dropping duplicate SKUs: {0}\".format(prod_df.shape[0])))\n",
    "fil_ = (prod_df.SKU == 'UNLKD SONY XPERIA XZS BLUE 32G') & (prod_df.color.str.strip() == 'BLACK')\n",
    "prod_df = prod_df[~fil_]\n",
    "print((\"No. of rows after dropping duplicate SKUs: {0}\".format(prod_df.shape[0])))"
   ]
  },
  {
   "cell_type": "markdown",
   "metadata": {},
   "source": [
    "## Health Analysis"
   ]
  },
  {
   "cell_type": "markdown",
   "metadata": {},
   "source": [
    "Get an overview of the overall health of the dataset. This is usually quick to compute and hopefully highlights some problems to focus on.\n",
    "\n"
   ]
  },
  {
   "cell_type": "markdown",
   "metadata": {},
   "source": [
    "### Summary Plot\n",
    "\n",
    "Provides a high level summary of the dataset health.\n",
    "\n",
    "**Watch out for:**\n",
    "\n",
    "* too few numeric values\n",
    "* high % of missing values\n",
    "* high % of duplicate values\n",
    "* high % of duplicate columns "
   ]
  },
  {
   "cell_type": "code",
   "execution_count": 22,
   "metadata": {},
   "outputs": [
    {
     "data": {},
     "metadata": {},
     "output_type": "display_data"
    },
    {
     "data": {},
     "metadata": {},
     "output_type": "display_data"
    },
    {
     "data": {
      "application/vnd.holoviews_exec.v0+json": "",
      "text/html": [
       "<div id='1101'>\n",
       "\n",
       "\n",
       "\n",
       "\n",
       "\n",
       "  <div class=\"bk-root\" id=\"877253fa-8fd6-4fd3-9770-be5ccd40f9b9\" data-root-id=\"1101\"></div>\n",
       "</div>\n",
       "<script type=\"application/javascript\">(function(root) {\n",
       "  function embed_document(root) {\n",
       "  var docs_json = {\"1c846234-6c2b-43ff-927f-7d601537bef3\":{\"roots\":{\"references\":[{\"attributes\":{},\"id\":\"1264\",\"type\":\"UnionRenderers\"},{\"attributes\":{\"active_drag\":\"auto\",\"active_inspect\":\"auto\",\"active_multi\":null,\"active_scroll\":\"auto\",\"active_tap\":\"auto\",\"tools\":[{\"id\":\"1795\"},{\"id\":\"1812\"},{\"id\":\"1813\"},{\"id\":\"1814\"},{\"id\":\"1815\"},{\"id\":\"1816\"}]},\"id\":\"1818\",\"type\":\"Toolbar\"},{\"attributes\":{\"active_drag\":\"auto\",\"active_inspect\":\"auto\",\"active_multi\":null,\"active_scroll\":\"auto\",\"active_tap\":\"auto\",\"tools\":[{\"id\":\"1218\"},{\"id\":\"1235\"},{\"id\":\"1236\"},{\"id\":\"1237\"},{\"id\":\"1238\"},{\"id\":\"1239\"}]},\"id\":\"1241\",\"type\":\"Toolbar\"},{\"attributes\":{\"items\":[{\"id\":\"1672\"}],\"location\":[0,0]},\"id\":\"1671\",\"type\":\"Legend\"},{\"attributes\":{\"axis_label\":\"\",\"bounds\":\"auto\",\"formatter\":{\"id\":\"1202\"},\"major_label_orientation\":\"horizontal\",\"ticker\":{\"id\":\"1210\"}},\"id\":\"1171\",\"type\":\"LinearAxis\"},{\"attributes\":{},\"id\":\"1224\",\"type\":\"LinearScale\"},{\"attributes\":{},\"id\":\"1261\",\"type\":\"CategoricalTickFormatter\"},{\"attributes\":{\"bottom_units\":\"screen\",\"fill_alpha\":0.5,\"fill_color\":\"lightgrey\",\"left_units\":\"screen\",\"level\":\"overlay\",\"line_alpha\":1.0,\"line_color\":\"black\",\"line_dash\":[4,4],\"line_width\":2,\"right_units\":\"screen\",\"top_units\":\"screen\"},\"id\":\"1817\",\"type\":\"BoxAnnotation\"},{\"attributes\":{\"children\":[[{\"id\":\"1625\"},0,0],[{\"id\":\"1682\"},1,0],[{\"id\":\"1739\"},2,0],[{\"id\":\"1796\"},3,0]]},\"id\":\"1883\",\"type\":\"GridBox\"},{\"attributes\":{},\"id\":\"1784\",\"type\":\"UnionRenderers\"},{\"attributes\":{},\"id\":\"1841\",\"type\":\"UnionRenderers\"},{\"attributes\":{\"overlay\":{\"id\":\"1817\"}},\"id\":\"1815\",\"type\":\"BoxZoomTool\"},{\"attributes\":{\"fill_alpha\":{\"value\":0.2},\"fill_color\":{\"field\":\"Variable\",\"transform\":{\"id\":\"1191\"}},\"height\":{\"value\":0.8},\"left\":{\"field\":\"bottom\"},\"line_alpha\":{\"value\":0.2},\"right\":{\"field\":\"top\"},\"y\":{\"field\":\"index\"}},\"id\":\"1197\",\"type\":\"HBar\"},{\"attributes\":{\"items\":[{\"id\":\"1266\"}],\"location\":[0,0]},\"id\":\"1265\",\"type\":\"Legend\"},{\"attributes\":{\"label\":{\"field\":\"Variable\"},\"renderers\":[{\"id\":\"1661\"}]},\"id\":\"1672\",\"type\":\"LegendItem\"},{\"attributes\":{},\"id\":\"1169\",\"type\":\"CategoricalScale\"},{\"attributes\":{},\"id\":\"1816\",\"type\":\"ResetTool\"},{\"attributes\":{\"callback\":null,\"renderers\":[{\"id\":\"1141\"}],\"tags\":[\"hv_created\"],\"tooltips\":[[\"index\",\"@{index}\"],[\"Variable\",\"@{Variable}\"],[\"value\",\"@{value}\"]]},\"id\":\"1104\",\"type\":\"HoverTool\"},{\"attributes\":{\"callback\":null,\"renderers\":[{\"id\":\"1832\"}],\"tags\":[\"hv_created\"],\"tooltips\":[[\"index\",\"@{index}\"],[\"Variable\",\"@{Variable}\"],[\"value\",\"@{value}\"]]},\"id\":\"1795\",\"type\":\"HoverTool\"},{\"attributes\":{},\"id\":\"1812\",\"type\":\"SaveTool\"},{\"attributes\":{\"data_source\":{\"id\":\"1192\"},\"glyph\":{\"id\":\"1195\"},\"hover_glyph\":null,\"muted_glyph\":{\"id\":\"1197\"},\"nonselection_glyph\":{\"id\":\"1196\"},\"selection_glyph\":null,\"view\":{\"id\":\"1199\"}},\"id\":\"1198\",\"type\":\"GlyphRenderer\"},{\"attributes\":{},\"id\":\"1813\",\"type\":\"PanTool\"},{\"attributes\":{},\"id\":\"1814\",\"type\":\"WheelZoomTool\"},{\"attributes\":{\"source\":{\"id\":\"1712\"}},\"id\":\"1719\",\"type\":\"CDSView\"},{\"attributes\":{\"toolbar\":{\"id\":\"1884\"},\"toolbar_location\":\"above\"},\"id\":\"1885\",\"type\":\"ToolbarBox\"},{\"attributes\":{\"factors\":[\"values\"],\"tags\":[[[\"index\",\"index\",null]]]},\"id\":\"1103\",\"type\":\"FactorRange\"},{\"attributes\":{\"factors\":[\"Unique\",\"Duplicate\"],\"palette\":[\"#1f77b3\",\"#ff7e0e\"]},\"id\":\"1825\",\"type\":\"CategoricalColorMapper\"},{\"attributes\":{\"label\":{\"field\":\"Variable\"},\"renderers\":[{\"id\":\"1255\"}]},\"id\":\"1266\",\"type\":\"LegendItem\"},{\"attributes\":{},\"id\":\"1779\",\"type\":\"BasicTickFormatter\"},{\"attributes\":{\"axis_label\":\"\",\"bounds\":\"auto\",\"formatter\":{\"id\":\"1204\"},\"major_label_orientation\":\"horizontal\",\"ticker\":{\"id\":\"1176\"}},\"id\":\"1175\",\"type\":\"CategoricalAxis\"},{\"attributes\":{\"source\":{\"id\":\"1769\"}},\"id\":\"1776\",\"type\":\"CDSView\"},{\"attributes\":{},\"id\":\"1810\",\"type\":\"CategoricalTicker\"},{\"attributes\":{\"axis\":{\"id\":\"1171\"},\"grid_line_color\":null,\"ticker\":null},\"id\":\"1174\",\"type\":\"Grid\"},{\"attributes\":{\"label\":{\"field\":\"Variable\"},\"renderers\":[{\"id\":\"1775\"}]},\"id\":\"1786\",\"type\":\"LegendItem\"},{\"attributes\":{\"children\":[{\"id\":\"1885\"},{\"id\":\"1883\"}]},\"id\":\"1886\",\"type\":\"Column\"},{\"attributes\":{\"axis\":{\"id\":\"1809\"},\"dimension\":1,\"grid_line_color\":null,\"ticker\":null},\"id\":\"1811\",\"type\":\"Grid\"},{\"attributes\":{\"align\":null,\"below\":[{\"id\":\"1634\"}],\"center\":[{\"id\":\"1637\"},{\"id\":\"1640\"},{\"id\":\"1671\"}],\"left\":[{\"id\":\"1638\"}],\"margin\":null,\"min_border_bottom\":10,\"min_border_left\":10,\"min_border_right\":10,\"min_border_top\":10,\"plot_height\":100,\"plot_width\":700,\"renderers\":[{\"id\":\"1661\"}],\"right\":[{\"id\":\"1671\"}],\"sizing_mode\":\"fixed\",\"title\":{\"id\":\"1626\"},\"toolbar\":{\"id\":\"1647\"},\"toolbar_location\":null,\"x_range\":{\"id\":\"1102\"},\"x_scale\":{\"id\":\"1630\"},\"y_range\":{\"id\":\"1103\"},\"y_scale\":{\"id\":\"1632\"}},\"id\":\"1625\",\"subtype\":\"Figure\",\"type\":\"Plot\"},{\"attributes\":{\"child\":{\"id\":\"1888\"},\"name\":\"product\",\"title\":\"product\"},\"id\":\"2141\",\"type\":\"Panel\"},{\"attributes\":{},\"id\":\"1292\",\"type\":\"SaveTool\"},{\"attributes\":{\"text\":\"Datatypes\",\"text_color\":{\"value\":\"black\"},\"text_font_size\":{\"value\":\"12pt\"}},\"id\":\"1626\",\"type\":\"Title\"},{\"attributes\":{\"end\":100.0,\"reset_end\":100.0,\"reset_start\":0.0,\"tags\":[[[\"value\",\"value\",null]]]},\"id\":\"1102\",\"type\":\"Range1d\"},{\"attributes\":{\"data\":{\"Variable\":[\"Unique\",\"Duplicate\"],\"bottom\":{\"__ndarray__\":\"AAAAAAAAAAAAAAAAAABZQA==\",\"dtype\":\"float64\",\"order\":\"little\",\"shape\":[2]},\"index\":[\"values\",\"values\"],\"top\":{\"__ndarray__\":\"AAAAAAAAWUAAAAAAAABZQA==\",\"dtype\":\"float64\",\"order\":\"little\",\"shape\":[2]},\"value\":{\"__ndarray__\":\"AAAAAAAAWUAAAAAAAAAAAA==\",\"dtype\":\"float64\",\"order\":\"little\",\"shape\":[2]}},\"selected\":{\"id\":\"1307\"},\"selection_policy\":{\"id\":\"1321\"}},\"id\":\"1306\",\"type\":\"ColumnDataSource\"},{\"attributes\":{\"children\":[{\"id\":\"1887\"},{\"id\":\"1886\"}]},\"id\":\"1888\",\"type\":\"Column\"},{\"attributes\":{\"toolbars\":[{\"id\":\"1647\"},{\"id\":\"1704\"},{\"id\":\"1761\"},{\"id\":\"1818\"}],\"tools\":[{\"id\":\"1624\"},{\"id\":\"1641\"},{\"id\":\"1642\"},{\"id\":\"1643\"},{\"id\":\"1644\"},{\"id\":\"1645\"},{\"id\":\"1681\"},{\"id\":\"1698\"},{\"id\":\"1699\"},{\"id\":\"1700\"},{\"id\":\"1701\"},{\"id\":\"1702\"},{\"id\":\"1738\"},{\"id\":\"1755\"},{\"id\":\"1756\"},{\"id\":\"1757\"},{\"id\":\"1758\"},{\"id\":\"1759\"},{\"id\":\"1795\"},{\"id\":\"1812\"},{\"id\":\"1813\"},{\"id\":\"1814\"},{\"id\":\"1815\"},{\"id\":\"1816\"}]},\"id\":\"1884\",\"type\":\"ProxyToolbar\"},{\"attributes\":{},\"id\":\"1293\",\"type\":\"PanTool\"},{\"attributes\":{\"style\":{\"white-space\":\"nowrap\"},\"text\":\"<span style=\\\"color:black;font-family:Arial;font-style:bold;font-weight:bold;font-size:12pt\\\">Data Shape:(13544, 9)</span>\",\"width\":450},\"id\":\"1887\",\"type\":\"Div\"},{\"attributes\":{\"source\":{\"id\":\"1192\"}},\"id\":\"1199\",\"type\":\"CDSView\"},{\"attributes\":{\"axis_label\":\"\",\"bounds\":\"auto\",\"formatter\":{\"id\":\"1838\"},\"major_label_orientation\":\"horizontal\",\"ticker\":{\"id\":\"1810\"}},\"id\":\"1809\",\"type\":\"CategoricalAxis\"},{\"attributes\":{\"bottom_units\":\"screen\",\"fill_alpha\":0.5,\"fill_color\":\"lightgrey\",\"left_units\":\"screen\",\"level\":\"overlay\",\"line_alpha\":1.0,\"line_color\":\"black\",\"line_dash\":[4,4],\"line_width\":2,\"right_units\":\"screen\",\"top_units\":\"screen\"},\"id\":\"1240\",\"type\":\"BoxAnnotation\"},{\"attributes\":{\"axis_label\":\"\",\"bounds\":\"auto\",\"formatter\":{\"id\":\"1836\"},\"major_label_orientation\":\"horizontal\",\"ticker\":{\"id\":\"1844\"}},\"id\":\"1805\",\"type\":\"LinearAxis\"},{\"attributes\":{\"axis\":{\"id\":\"1285\"},\"grid_line_color\":null,\"ticker\":null},\"id\":\"1288\",\"type\":\"Grid\"},{\"attributes\":{},\"id\":\"1801\",\"type\":\"LinearScale\"},{\"attributes\":{},\"id\":\"1670\",\"type\":\"UnionRenderers\"},{\"attributes\":{\"axis\":{\"id\":\"1289\"},\"dimension\":1,\"grid_line_color\":null,\"ticker\":null},\"id\":\"1291\",\"type\":\"Grid\"},{\"attributes\":{},\"id\":\"1176\",\"type\":\"CategoricalTicker\"},{\"attributes\":{\"factors\":[\"Available\",\"Missing\"],\"palette\":[\"#1f77b3\",\"#ff7e0e\"]},\"id\":\"1711\",\"type\":\"CategoricalColorMapper\"},{\"attributes\":{},\"id\":\"1290\",\"type\":\"CategoricalTicker\"},{\"attributes\":{},\"id\":\"1803\",\"type\":\"CategoricalScale\"},{\"attributes\":{\"axis\":{\"id\":\"1805\"},\"grid_line_color\":null,\"ticker\":null},\"id\":\"1808\",\"type\":\"Grid\"},{\"attributes\":{\"text\":\"Duplicate Columns\",\"text_color\":{\"value\":\"black\"},\"text_font_size\":{\"value\":\"12pt\"}},\"id\":\"1797\",\"type\":\"Title\"},{\"attributes\":{\"axis_label\":\"\",\"bounds\":\"auto\",\"formatter\":{\"id\":\"1316\"},\"major_label_orientation\":\"horizontal\",\"ticker\":{\"id\":\"1324\"}},\"id\":\"1285\",\"type\":\"LinearAxis\"},{\"attributes\":{\"items\":[{\"id\":\"1786\"}],\"location\":[0,0]},\"id\":\"1785\",\"type\":\"Legend\"},{\"attributes\":{\"axis_label\":\"\",\"bounds\":\"auto\",\"formatter\":{\"id\":\"1318\"},\"major_label_orientation\":\"horizontal\",\"ticker\":{\"id\":\"1290\"}},\"id\":\"1289\",\"type\":\"CategoricalAxis\"},{\"attributes\":{},\"id\":\"1283\",\"type\":\"CategoricalScale\"},{\"attributes\":{\"align\":null,\"below\":[{\"id\":\"1805\"}],\"center\":[{\"id\":\"1808\"},{\"id\":\"1811\"},{\"id\":\"1842\"}],\"left\":[{\"id\":\"1809\"}],\"margin\":null,\"min_border_bottom\":10,\"min_border_left\":10,\"min_border_right\":10,\"min_border_top\":10,\"plot_height\":100,\"plot_width\":700,\"renderers\":[{\"id\":\"1832\"}],\"right\":[{\"id\":\"1842\"}],\"sizing_mode\":\"fixed\",\"title\":{\"id\":\"1797\"},\"toolbar\":{\"id\":\"1818\"},\"toolbar_location\":null,\"x_range\":{\"id\":\"1102\"},\"x_scale\":{\"id\":\"1801\"},\"y_range\":{\"id\":\"1103\"},\"y_scale\":{\"id\":\"1803\"}},\"id\":\"1796\",\"subtype\":\"Figure\",\"type\":\"Plot\"},{\"attributes\":{\"callback\":null,\"renderers\":[{\"id\":\"1255\"}],\"tags\":[\"hv_created\"],\"tooltips\":[[\"index\",\"@{index}\"],[\"Variable\",\"@{Variable}\"],[\"value\",\"@{value}\"]]},\"id\":\"1218\",\"type\":\"HoverTool\"},{\"attributes\":{\"ticks\":[0]},\"id\":\"1730\",\"type\":\"FixedTicker\"},{\"attributes\":{\"factors\":[\"Unique\",\"Duplicate\"],\"palette\":[\"#1f77b3\",\"#ff7e0e\"]},\"id\":\"1248\",\"type\":\"CategoricalColorMapper\"},{\"attributes\":{\"client_comm_id\":\"03eeabde73eb4b7bafc3841b6aaeb023\",\"comm_id\":\"768f13c81b3b4840b7e9d90d6ab235fd\",\"plot_id\":\"1101\"},\"id\":\"2310\",\"type\":\"panel.models.comm_manager.CommManager\"},{\"attributes\":{\"fill_alpha\":{\"value\":0.1},\"fill_color\":{\"field\":\"Variable\",\"transform\":{\"id\":\"1768\"}},\"height\":{\"value\":0.8},\"left\":{\"field\":\"bottom\"},\"line_alpha\":{\"value\":0.1},\"right\":{\"field\":\"top\"},\"y\":{\"field\":\"index\"}},\"id\":\"1773\",\"type\":\"HBar\"},{\"attributes\":{\"overlay\":{\"id\":\"1183\"}},\"id\":\"1181\",\"type\":\"BoxZoomTool\"},{\"attributes\":{\"items\":[{\"id\":\"1843\"}],\"location\":[0,0]},\"id\":\"1842\",\"type\":\"Legend\"},{\"attributes\":{\"fill_alpha\":{\"value\":0.2},\"fill_color\":{\"field\":\"Variable\",\"transform\":{\"id\":\"1768\"}},\"height\":{\"value\":0.8},\"left\":{\"field\":\"bottom\"},\"line_alpha\":{\"value\":0.2},\"right\":{\"field\":\"top\"},\"y\":{\"field\":\"index\"}},\"id\":\"1774\",\"type\":\"HBar\"},{\"attributes\":{},\"id\":\"1178\",\"type\":\"SaveTool\"},{\"attributes\":{\"items\":[{\"id\":\"1323\"}],\"location\":[0,0]},\"id\":\"1322\",\"type\":\"Legend\"},{\"attributes\":{\"data_source\":{\"id\":\"1769\"},\"glyph\":{\"id\":\"1772\"},\"hover_glyph\":null,\"muted_glyph\":{\"id\":\"1774\"},\"nonselection_glyph\":{\"id\":\"1773\"},\"selection_glyph\":null,\"view\":{\"id\":\"1776\"}},\"id\":\"1775\",\"type\":\"GlyphRenderer\"},{\"attributes\":{\"align\":null,\"below\":[{\"id\":\"1285\"}],\"center\":[{\"id\":\"1288\"},{\"id\":\"1291\"},{\"id\":\"1322\"}],\"left\":[{\"id\":\"1289\"}],\"margin\":null,\"min_border_bottom\":10,\"min_border_left\":10,\"min_border_right\":10,\"min_border_top\":10,\"plot_height\":100,\"plot_width\":700,\"renderers\":[{\"id\":\"1312\"}],\"right\":[{\"id\":\"1322\"}],\"sizing_mode\":\"fixed\",\"title\":{\"id\":\"1277\"},\"toolbar\":{\"id\":\"1298\"},\"toolbar_location\":null,\"x_range\":{\"id\":\"1102\"},\"x_scale\":{\"id\":\"1281\"},\"y_range\":{\"id\":\"1103\"},\"y_scale\":{\"id\":\"1283\"}},\"id\":\"1276\",\"subtype\":\"Figure\",\"type\":\"Plot\"},{\"attributes\":{\"text\":\"Duplicate Columns\",\"text_color\":{\"value\":\"black\"},\"text_font_size\":{\"value\":\"12pt\"}},\"id\":\"1277\",\"type\":\"Title\"},{\"attributes\":{\"items\":[{\"id\":\"1209\"}],\"location\":[0,0]},\"id\":\"1208\",\"type\":\"Legend\"},{\"attributes\":{\"overlay\":{\"id\":\"1703\"}},\"id\":\"1701\",\"type\":\"BoxZoomTool\"},{\"attributes\":{},\"id\":\"1136\",\"type\":\"Selection\"},{\"attributes\":{\"label\":{\"field\":\"Variable\"},\"renderers\":[{\"id\":\"1312\"}]},\"id\":\"1323\",\"type\":\"LegendItem\"},{\"attributes\":{},\"id\":\"1281\",\"type\":\"LinearScale\"},{\"attributes\":{},\"id\":\"1699\",\"type\":\"PanTool\"},{\"attributes\":{\"axis\":{\"id\":\"1638\"},\"dimension\":1,\"grid_line_color\":null,\"ticker\":null},\"id\":\"1640\",\"type\":\"Grid\"},{\"attributes\":{},\"id\":\"1645\",\"type\":\"ResetTool\"},{\"attributes\":{\"fill_alpha\":{\"value\":0.1},\"fill_color\":{\"field\":\"Variable\",\"transform\":{\"id\":\"1248\"}},\"height\":{\"value\":0.8},\"left\":{\"field\":\"bottom\"},\"line_alpha\":{\"value\":0.1},\"right\":{\"field\":\"top\"},\"y\":{\"field\":\"index\"}},\"id\":\"1253\",\"type\":\"HBar\"},{\"attributes\":{\"axis\":{\"id\":\"1175\"},\"dimension\":1,\"grid_line_color\":null,\"ticker\":null},\"id\":\"1177\",\"type\":\"Grid\"},{\"attributes\":{\"fill_color\":{\"field\":\"Variable\",\"transform\":{\"id\":\"1248\"}},\"height\":{\"value\":0.8},\"left\":{\"field\":\"bottom\"},\"right\":{\"field\":\"top\"},\"y\":{\"field\":\"index\"}},\"id\":\"1252\",\"type\":\"HBar\"},{\"attributes\":{},\"id\":\"1642\",\"type\":\"PanTool\"},{\"attributes\":{\"fill_alpha\":{\"value\":0.1},\"fill_color\":{\"field\":\"Variable\",\"transform\":{\"id\":\"1191\"}},\"height\":{\"value\":0.8},\"left\":{\"field\":\"bottom\"},\"line_alpha\":{\"value\":0.1},\"right\":{\"field\":\"top\"},\"y\":{\"field\":\"index\"}},\"id\":\"1196\",\"type\":\"HBar\"},{\"attributes\":{\"align\":null,\"below\":[{\"id\":\"1748\"}],\"center\":[{\"id\":\"1751\"},{\"id\":\"1754\"},{\"id\":\"1785\"}],\"left\":[{\"id\":\"1752\"}],\"margin\":null,\"min_border_bottom\":10,\"min_border_left\":10,\"min_border_right\":10,\"min_border_top\":10,\"plot_height\":100,\"plot_width\":700,\"renderers\":[{\"id\":\"1775\"}],\"right\":[{\"id\":\"1785\"}],\"sizing_mode\":\"fixed\",\"title\":{\"id\":\"1740\"},\"toolbar\":{\"id\":\"1761\"},\"toolbar_location\":null,\"x_range\":{\"id\":\"1102\"},\"x_scale\":{\"id\":\"1744\"},\"y_range\":{\"id\":\"1103\"},\"y_scale\":{\"id\":\"1746\"}},\"id\":\"1739\",\"subtype\":\"Figure\",\"type\":\"Plot\"},{\"attributes\":{},\"id\":\"1641\",\"type\":\"SaveTool\"},{\"attributes\":{\"overlay\":{\"id\":\"1646\"}},\"id\":\"1644\",\"type\":\"BoxZoomTool\"},{\"attributes\":{\"text\":\"Duplicate Values\",\"text_color\":{\"value\":\"black\"},\"text_font_size\":{\"value\":\"12pt\"}},\"id\":\"1740\",\"type\":\"Title\"},{\"attributes\":{\"data\":{\"Variable\":[\"Available\",\"Missing\"],\"bottom\":{\"__ndarray__\":\"AAAAAAAAAAAXsm4C3/9YQA==\",\"dtype\":\"float64\",\"order\":\"little\",\"shape\":[2]},\"index\":[\"values\",\"values\"],\"top\":{\"__ndarray__\":\"F7JuAt//WEAAAAAAAABZQA==\",\"dtype\":\"float64\",\"order\":\"little\",\"shape\":[2]},\"value\":{\"__ndarray__\":\"F7JuAt//WEC1sPSmyH5gPw==\",\"dtype\":\"float64\",\"order\":\"little\",\"shape\":[2]}},\"selected\":{\"id\":\"1193\"},\"selection_policy\":{\"id\":\"1207\"}},\"id\":\"1192\",\"type\":\"ColumnDataSource\"},{\"attributes\":{\"data\":{\"Variable\":[\"Unique\",\"Duplicate\"],\"bottom\":{\"__ndarray__\":\"AAAAAAAAAAAAAAAAAABZQA==\",\"dtype\":\"float64\",\"order\":\"little\",\"shape\":[2]},\"index\":[\"values\",\"values\"],\"top\":{\"__ndarray__\":\"AAAAAAAAWUAAAAAAAABZQA==\",\"dtype\":\"float64\",\"order\":\"little\",\"shape\":[2]},\"value\":{\"__ndarray__\":\"AAAAAAAAWUAAAAAAAAAAAA==\",\"dtype\":\"float64\",\"order\":\"little\",\"shape\":[2]}},\"selected\":{\"id\":\"1827\"},\"selection_policy\":{\"id\":\"1841\"}},\"id\":\"1826\",\"type\":\"ColumnDataSource\"},{\"attributes\":{\"data\":{\"Variable\":[\"Numeric\",\"Others\"],\"bottom\":{\"__ndarray__\":\"AAAAAAAAAAAAAAAAAAAAAA==\",\"dtype\":\"float64\",\"order\":\"little\",\"shape\":[2]},\"index\":[\"values\",\"values\"],\"top\":{\"__ndarray__\":\"AAAAAAAAAAAAAAAAAABZQA==\",\"dtype\":\"float64\",\"order\":\"little\",\"shape\":[2]},\"value\":{\"__ndarray__\":\"AAAAAAAAAAAAAAAAAABZQA==\",\"dtype\":\"float64\",\"order\":\"little\",\"shape\":[2]}},\"selected\":{\"id\":\"1656\"},\"selection_policy\":{\"id\":\"1670\"}},\"id\":\"1655\",\"type\":\"ColumnDataSource\"},{\"attributes\":{},\"id\":\"1781\",\"type\":\"CategoricalTickFormatter\"},{\"attributes\":{},\"id\":\"1643\",\"type\":\"WheelZoomTool\"},{\"attributes\":{\"factors\":[\"Numeric\",\"Others\"],\"palette\":[\"#1f77b3\",\"#ff7e0e\"]},\"id\":\"1134\",\"type\":\"CategoricalColorMapper\"},{\"attributes\":{},\"id\":\"1182\",\"type\":\"ResetTool\"},{\"attributes\":{\"axis_label\":\"\",\"bounds\":\"auto\",\"formatter\":{\"id\":\"1261\"},\"major_label_orientation\":\"horizontal\",\"ticker\":{\"id\":\"1233\"}},\"id\":\"1232\",\"type\":\"CategoricalAxis\"},{\"attributes\":{},\"id\":\"1746\",\"type\":\"CategoricalScale\"},{\"attributes\":{\"axis_label\":\"\",\"bounds\":\"auto\",\"formatter\":{\"id\":\"1667\"},\"major_label_orientation\":\"horizontal\",\"ticker\":{\"id\":\"1639\"}},\"id\":\"1638\",\"type\":\"CategoricalAxis\"},{\"attributes\":{},\"id\":\"1226\",\"type\":\"CategoricalScale\"},{\"attributes\":{\"axis_label\":\"\",\"bounds\":\"auto\",\"formatter\":{\"id\":\"1779\"},\"major_label_orientation\":\"horizontal\",\"ticker\":{\"id\":\"1787\"}},\"id\":\"1748\",\"type\":\"LinearAxis\"},{\"attributes\":{},\"id\":\"1193\",\"type\":\"Selection\"},{\"attributes\":{\"children\":[{\"id\":\"1367\"},{\"id\":\"1366\"}]},\"id\":\"1368\",\"type\":\"Column\"},{\"attributes\":{},\"id\":\"1744\",\"type\":\"LinearScale\"},{\"attributes\":{},\"id\":\"1639\",\"type\":\"CategoricalTicker\"},{\"attributes\":{\"data\":{\"Variable\":[\"Unique\",\"Duplicate\"],\"bottom\":{\"__ndarray__\":\"AAAAAAAAAAAAAAAAAABZQA==\",\"dtype\":\"float64\",\"order\":\"little\",\"shape\":[2]},\"index\":[\"values\",\"values\"],\"top\":{\"__ndarray__\":\"AAAAAAAAWUAAAAAAAABZQA==\",\"dtype\":\"float64\",\"order\":\"little\",\"shape\":[2]},\"value\":{\"__ndarray__\":\"AAAAAAAAWUAAAAAAAAAAAA==\",\"dtype\":\"float64\",\"order\":\"little\",\"shape\":[2]}},\"selected\":{\"id\":\"1770\"},\"selection_policy\":{\"id\":\"1784\"}},\"id\":\"1769\",\"type\":\"ColumnDataSource\"},{\"attributes\":{\"fill_alpha\":{\"value\":0.2},\"fill_color\":{\"field\":\"Variable\",\"transform\":{\"id\":\"1305\"}},\"height\":{\"value\":0.8},\"left\":{\"field\":\"bottom\"},\"line_alpha\":{\"value\":0.2},\"right\":{\"field\":\"top\"},\"y\":{\"field\":\"index\"}},\"id\":\"1311\",\"type\":\"HBar\"},{\"attributes\":{\"axis\":{\"id\":\"1232\"},\"dimension\":1,\"grid_line_color\":null,\"ticker\":null},\"id\":\"1234\",\"type\":\"Grid\"},{\"attributes\":{\"axis\":{\"id\":\"1634\"},\"grid_line_color\":null,\"ticker\":null},\"id\":\"1637\",\"type\":\"Grid\"},{\"attributes\":{\"data\":{\"Variable\":[\"Unique\",\"Duplicate\"],\"bottom\":{\"__ndarray__\":\"AAAAAAAAAABxuvsohv9YQA==\",\"dtype\":\"float64\",\"order\":\"little\",\"shape\":[2]},\"index\":[\"values\",\"values\"],\"top\":{\"__ndarray__\":\"cbr7KIb/WEAAAAAAAABZQA==\",\"dtype\":\"float64\",\"order\":\"little\",\"shape\":[2]},\"value\":{\"__ndarray__\":\"cbr7KIb/WEDE12MRwXV+Pw==\",\"dtype\":\"float64\",\"order\":\"little\",\"shape\":[2]}},\"selected\":{\"id\":\"1250\"},\"selection_policy\":{\"id\":\"1264\"}},\"id\":\"1249\",\"type\":\"ColumnDataSource\"},{\"attributes\":{\"toolbar\":{\"id\":\"1364\"},\"toolbar_location\":\"above\"},\"id\":\"1365\",\"type\":\"ToolbarBox\"},{\"attributes\":{\"toolbars\":[{\"id\":\"1127\"},{\"id\":\"1184\"},{\"id\":\"1241\"},{\"id\":\"1298\"}],\"tools\":[{\"id\":\"1104\"},{\"id\":\"1121\"},{\"id\":\"1122\"},{\"id\":\"1123\"},{\"id\":\"1124\"},{\"id\":\"1125\"},{\"id\":\"1161\"},{\"id\":\"1178\"},{\"id\":\"1179\"},{\"id\":\"1180\"},{\"id\":\"1181\"},{\"id\":\"1182\"},{\"id\":\"1218\"},{\"id\":\"1235\"},{\"id\":\"1236\"},{\"id\":\"1237\"},{\"id\":\"1238\"},{\"id\":\"1239\"},{\"id\":\"1275\"},{\"id\":\"1292\"},{\"id\":\"1293\"},{\"id\":\"1294\"},{\"id\":\"1295\"},{\"id\":\"1296\"}]},\"id\":\"1364\",\"type\":\"ProxyToolbar\"},{\"attributes\":{},\"id\":\"1630\",\"type\":\"LinearScale\"},{\"attributes\":{\"children\":[{\"id\":\"1365\"},{\"id\":\"1363\"}]},\"id\":\"1366\",\"type\":\"Column\"},{\"attributes\":{\"axis_label\":\"\",\"bounds\":\"auto\",\"formatter\":{\"id\":\"1665\"},\"major_label_orientation\":\"horizontal\",\"ticker\":{\"id\":\"1673\"}},\"id\":\"1634\",\"type\":\"LinearAxis\"},{\"attributes\":{},\"id\":\"1727\",\"type\":\"UnionRenderers\"},{\"attributes\":{\"axis_label\":\"\",\"bounds\":\"auto\",\"formatter\":{\"id\":\"1259\"},\"major_label_orientation\":\"horizontal\",\"ticker\":{\"id\":\"1267\"}},\"id\":\"1228\",\"type\":\"LinearAxis\"},{\"attributes\":{},\"id\":\"1179\",\"type\":\"PanTool\"},{\"attributes\":{\"style\":{\"white-space\":\"nowrap\"},\"text\":\"<span style=\\\"color:black;font-family:Arial;font-style:bold;font-weight:bold;font-size:12pt\\\">Data Shape:(174813, 25)</span>\",\"width\":450},\"id\":\"1367\",\"type\":\"Div\"},{\"attributes\":{},\"id\":\"1698\",\"type\":\"SaveTool\"},{\"attributes\":{},\"id\":\"1233\",\"type\":\"CategoricalTicker\"},{\"attributes\":{},\"id\":\"1724\",\"type\":\"CategoricalTickFormatter\"},{\"attributes\":{},\"id\":\"1700\",\"type\":\"WheelZoomTool\"},{\"attributes\":{\"label\":{\"field\":\"Variable\"},\"renderers\":[{\"id\":\"1718\"}]},\"id\":\"1729\",\"type\":\"LegendItem\"},{\"attributes\":{},\"id\":\"1180\",\"type\":\"WheelZoomTool\"},{\"attributes\":{\"callback\":null,\"renderers\":[{\"id\":\"1661\"}],\"tags\":[\"hv_created\"],\"tooltips\":[[\"index\",\"@{index}\"],[\"Variable\",\"@{Variable}\"],[\"value\",\"@{value}\"]]},\"id\":\"1624\",\"type\":\"HoverTool\"},{\"attributes\":{\"items\":[{\"id\":\"1729\"}],\"location\":[0,0]},\"id\":\"1728\",\"type\":\"Legend\"},{\"attributes\":{},\"id\":\"1722\",\"type\":\"BasicTickFormatter\"},{\"attributes\":{},\"id\":\"1632\",\"type\":\"CategoricalScale\"},{\"attributes\":{\"axis\":{\"id\":\"1228\"},\"grid_line_color\":null,\"ticker\":null},\"id\":\"1231\",\"type\":\"Grid\"},{\"attributes\":{},\"id\":\"1239\",\"type\":\"ResetTool\"},{\"attributes\":{\"factors\":[\"Unique\",\"Duplicate\"],\"palette\":[\"#1f77b3\",\"#ff7e0e\"]},\"id\":\"1768\",\"type\":\"CategoricalColorMapper\"},{\"attributes\":{\"ticks\":[0]},\"id\":\"1153\",\"type\":\"FixedTicker\"},{\"attributes\":{\"label\":{\"field\":\"Variable\"},\"renderers\":[{\"id\":\"1198\"}]},\"id\":\"1209\",\"type\":\"LegendItem\"},{\"attributes\":{\"ticks\":[0]},\"id\":\"1787\",\"type\":\"FixedTicker\"},{\"attributes\":{\"children\":[[{\"id\":\"1105\"},0,0],[{\"id\":\"1162\"},1,0],[{\"id\":\"1219\"},2,0],[{\"id\":\"1276\"},3,0]]},\"id\":\"1363\",\"type\":\"GridBox\"},{\"attributes\":{},\"id\":\"1702\",\"type\":\"ResetTool\"},{\"attributes\":{\"ticks\":[0]},\"id\":\"1844\",\"type\":\"FixedTicker\"},{\"attributes\":{\"items\":[{\"id\":\"1152\"}],\"location\":[0,0]},\"id\":\"1151\",\"type\":\"Legend\"},{\"attributes\":{\"bottom_units\":\"screen\",\"fill_alpha\":0.5,\"fill_color\":\"lightgrey\",\"left_units\":\"screen\",\"level\":\"overlay\",\"line_alpha\":1.0,\"line_color\":\"black\",\"line_dash\":[4,4],\"line_width\":2,\"right_units\":\"screen\",\"top_units\":\"screen\"},\"id\":\"1703\",\"type\":\"BoxAnnotation\"},{\"attributes\":{},\"id\":\"1656\",\"type\":\"Selection\"},{\"attributes\":{},\"id\":\"1123\",\"type\":\"WheelZoomTool\"},{\"attributes\":{},\"id\":\"1237\",\"type\":\"WheelZoomTool\"},{\"attributes\":{},\"id\":\"1145\",\"type\":\"BasicTickFormatter\"},{\"attributes\":{\"fill_alpha\":{\"value\":0.2},\"fill_color\":{\"field\":\"Variable\",\"transform\":{\"id\":\"1654\"}},\"height\":{\"value\":0.8},\"left\":{\"field\":\"bottom\"},\"line_alpha\":{\"value\":0.2},\"right\":{\"field\":\"top\"},\"y\":{\"field\":\"index\"}},\"id\":\"1660\",\"type\":\"HBar\"},{\"attributes\":{\"data\":{\"Variable\":[\"Available\",\"Missing\"],\"bottom\":{\"__ndarray__\":\"AAAAAAAAAAAgbW0DpOZYQA==\",\"dtype\":\"float64\",\"order\":\"little\",\"shape\":[2]},\"index\":[\"values\",\"values\"],\"top\":{\"__ndarray__\":\"IG1tA6TmWEAAAAAAAABZQA==\",\"dtype\":\"float64\",\"order\":\"little\",\"shape\":[2]},\"value\":{\"__ndarray__\":\"IG1tA6TmWEBM4JKS/FvZPw==\",\"dtype\":\"float64\",\"order\":\"little\",\"shape\":[2]}},\"selected\":{\"id\":\"1713\"},\"selection_policy\":{\"id\":\"1727\"}},\"id\":\"1712\",\"type\":\"ColumnDataSource\"},{\"attributes\":{\"factors\":[\"Available\",\"Missing\"],\"palette\":[\"#1f77b3\",\"#ff7e0e\"]},\"id\":\"1191\",\"type\":\"CategoricalColorMapper\"},{\"attributes\":{\"label\":{\"field\":\"Variable\"},\"renderers\":[{\"id\":\"1832\"}]},\"id\":\"1843\",\"type\":\"LegendItem\"},{\"attributes\":{\"active_drag\":\"auto\",\"active_inspect\":\"auto\",\"active_multi\":null,\"active_scroll\":\"auto\",\"active_tap\":\"auto\",\"tools\":[{\"id\":\"1624\"},{\"id\":\"1641\"},{\"id\":\"1642\"},{\"id\":\"1643\"},{\"id\":\"1644\"},{\"id\":\"1645\"}]},\"id\":\"1647\",\"type\":\"Toolbar\"},{\"attributes\":{},\"id\":\"1307\",\"type\":\"Selection\"},{\"attributes\":{\"overlay\":{\"id\":\"1240\"}},\"id\":\"1238\",\"type\":\"BoxZoomTool\"},{\"attributes\":{\"axis\":{\"id\":\"1118\"},\"dimension\":1,\"grid_line_color\":null,\"ticker\":null},\"id\":\"1120\",\"type\":\"Grid\"},{\"attributes\":{\"fill_color\":{\"field\":\"Variable\",\"transform\":{\"id\":\"1654\"}},\"height\":{\"value\":0.8},\"left\":{\"field\":\"bottom\"},\"right\":{\"field\":\"top\"},\"y\":{\"field\":\"index\"}},\"id\":\"1658\",\"type\":\"HBar\"},{\"attributes\":{\"data_source\":{\"id\":\"1249\"},\"glyph\":{\"id\":\"1252\"},\"hover_glyph\":null,\"muted_glyph\":{\"id\":\"1254\"},\"nonselection_glyph\":{\"id\":\"1253\"},\"selection_glyph\":null,\"view\":{\"id\":\"1256\"}},\"id\":\"1255\",\"type\":\"GlyphRenderer\"},{\"attributes\":{\"fill_alpha\":{\"value\":0.2},\"fill_color\":{\"field\":\"Variable\",\"transform\":{\"id\":\"1248\"}},\"height\":{\"value\":0.8},\"left\":{\"field\":\"bottom\"},\"line_alpha\":{\"value\":0.2},\"right\":{\"field\":\"top\"},\"y\":{\"field\":\"index\"}},\"id\":\"1254\",\"type\":\"HBar\"},{\"attributes\":{\"align\":null,\"below\":[{\"id\":\"1114\"}],\"center\":[{\"id\":\"1117\"},{\"id\":\"1120\"},{\"id\":\"1151\"}],\"left\":[{\"id\":\"1118\"}],\"margin\":null,\"min_border_bottom\":10,\"min_border_left\":10,\"min_border_right\":10,\"min_border_top\":10,\"plot_height\":100,\"plot_width\":700,\"renderers\":[{\"id\":\"1141\"}],\"right\":[{\"id\":\"1151\"}],\"sizing_mode\":\"fixed\",\"title\":{\"id\":\"1106\"},\"toolbar\":{\"id\":\"1127\"},\"toolbar_location\":null,\"x_range\":{\"id\":\"1102\"},\"x_scale\":{\"id\":\"1110\"},\"y_range\":{\"id\":\"1103\"},\"y_scale\":{\"id\":\"1112\"}},\"id\":\"1105\",\"subtype\":\"Figure\",\"type\":\"Plot\"},{\"attributes\":{\"axis\":{\"id\":\"1114\"},\"grid_line_color\":null,\"ticker\":null},\"id\":\"1117\",\"type\":\"Grid\"},{\"attributes\":{\"ticks\":[0]},\"id\":\"1324\",\"type\":\"FixedTicker\"},{\"attributes\":{},\"id\":\"1316\",\"type\":\"BasicTickFormatter\"},{\"attributes\":{},\"id\":\"1119\",\"type\":\"CategoricalTicker\"},{\"attributes\":{\"ticks\":[0]},\"id\":\"1210\",\"type\":\"FixedTicker\"},{\"attributes\":{},\"id\":\"1150\",\"type\":\"UnionRenderers\"},{\"attributes\":{\"source\":{\"id\":\"1306\"}},\"id\":\"1313\",\"type\":\"CDSView\"},{\"attributes\":{},\"id\":\"1665\",\"type\":\"BasicTickFormatter\"},{\"attributes\":{\"axis_label\":\"\",\"bounds\":\"auto\",\"formatter\":{\"id\":\"1147\"},\"major_label_orientation\":\"horizontal\",\"ticker\":{\"id\":\"1119\"}},\"id\":\"1118\",\"type\":\"CategoricalAxis\"},{\"attributes\":{\"data_source\":{\"id\":\"1306\"},\"glyph\":{\"id\":\"1309\"},\"hover_glyph\":null,\"muted_glyph\":{\"id\":\"1311\"},\"nonselection_glyph\":{\"id\":\"1310\"},\"selection_glyph\":null,\"view\":{\"id\":\"1313\"}},\"id\":\"1312\",\"type\":\"GlyphRenderer\"},{\"attributes\":{\"source\":{\"id\":\"1135\"}},\"id\":\"1142\",\"type\":\"CDSView\"},{\"attributes\":{},\"id\":\"1121\",\"type\":\"SaveTool\"},{\"attributes\":{},\"id\":\"1318\",\"type\":\"CategoricalTickFormatter\"},{\"attributes\":{},\"id\":\"1713\",\"type\":\"Selection\"},{\"attributes\":{\"fill_alpha\":{\"value\":0.1},\"fill_color\":{\"field\":\"Variable\",\"transform\":{\"id\":\"1134\"}},\"height\":{\"value\":0.8},\"left\":{\"field\":\"bottom\"},\"line_alpha\":{\"value\":0.1},\"right\":{\"field\":\"top\"},\"y\":{\"field\":\"index\"}},\"id\":\"1139\",\"type\":\"HBar\"},{\"attributes\":{},\"id\":\"1667\",\"type\":\"CategoricalTickFormatter\"},{\"attributes\":{\"align\":null,\"below\":[{\"id\":\"1171\"}],\"center\":[{\"id\":\"1174\"},{\"id\":\"1177\"},{\"id\":\"1208\"}],\"left\":[{\"id\":\"1175\"}],\"margin\":null,\"min_border_bottom\":10,\"min_border_left\":10,\"min_border_right\":10,\"min_border_top\":10,\"plot_height\":100,\"plot_width\":700,\"renderers\":[{\"id\":\"1198\"}],\"right\":[{\"id\":\"1208\"}],\"sizing_mode\":\"fixed\",\"title\":{\"id\":\"1163\"},\"toolbar\":{\"id\":\"1184\"},\"toolbar_location\":null,\"x_range\":{\"id\":\"1102\"},\"x_scale\":{\"id\":\"1167\"},\"y_range\":{\"id\":\"1103\"},\"y_scale\":{\"id\":\"1169\"}},\"id\":\"1162\",\"subtype\":\"Figure\",\"type\":\"Plot\"},{\"attributes\":{\"fill_alpha\":{\"value\":0.2},\"fill_color\":{\"field\":\"Variable\",\"transform\":{\"id\":\"1134\"}},\"height\":{\"value\":0.8},\"left\":{\"field\":\"bottom\"},\"line_alpha\":{\"value\":0.2},\"right\":{\"field\":\"top\"},\"y\":{\"field\":\"index\"}},\"id\":\"1140\",\"type\":\"HBar\"},{\"attributes\":{\"source\":{\"id\":\"1249\"}},\"id\":\"1256\",\"type\":\"CDSView\"},{\"attributes\":{},\"id\":\"1827\",\"type\":\"Selection\"},{\"attributes\":{\"text\":\"Datatypes\",\"text_color\":{\"value\":\"black\"},\"text_font_size\":{\"value\":\"12pt\"}},\"id\":\"1106\",\"type\":\"Title\"},{\"attributes\":{},\"id\":\"1321\",\"type\":\"UnionRenderers\"},{\"attributes\":{\"bottom_units\":\"screen\",\"fill_alpha\":0.5,\"fill_color\":\"lightgrey\",\"left_units\":\"screen\",\"level\":\"overlay\",\"line_alpha\":1.0,\"line_color\":\"black\",\"line_dash\":[4,4],\"line_width\":2,\"right_units\":\"screen\",\"top_units\":\"screen\"},\"id\":\"1183\",\"type\":\"BoxAnnotation\"},{\"attributes\":{},\"id\":\"1235\",\"type\":\"SaveTool\"},{\"attributes\":{\"data_source\":{\"id\":\"1135\"},\"glyph\":{\"id\":\"1138\"},\"hover_glyph\":null,\"muted_glyph\":{\"id\":\"1140\"},\"nonselection_glyph\":{\"id\":\"1139\"},\"selection_glyph\":null,\"view\":{\"id\":\"1142\"}},\"id\":\"1141\",\"type\":\"GlyphRenderer\"},{\"attributes\":{\"active_drag\":\"auto\",\"active_inspect\":\"auto\",\"active_multi\":null,\"active_scroll\":\"auto\",\"active_tap\":\"auto\",\"tools\":[{\"id\":\"1161\"},{\"id\":\"1178\"},{\"id\":\"1179\"},{\"id\":\"1180\"},{\"id\":\"1181\"},{\"id\":\"1182\"}]},\"id\":\"1184\",\"type\":\"Toolbar\"},{\"attributes\":{},\"id\":\"1122\",\"type\":\"PanTool\"},{\"attributes\":{\"data_source\":{\"id\":\"1712\"},\"glyph\":{\"id\":\"1715\"},\"hover_glyph\":null,\"muted_glyph\":{\"id\":\"1717\"},\"nonselection_glyph\":{\"id\":\"1716\"},\"selection_glyph\":null,\"view\":{\"id\":\"1719\"}},\"id\":\"1718\",\"type\":\"GlyphRenderer\"},{\"attributes\":{\"axis\":{\"id\":\"1748\"},\"grid_line_color\":null,\"ticker\":null},\"id\":\"1751\",\"type\":\"Grid\"},{\"attributes\":{},\"id\":\"1259\",\"type\":\"BasicTickFormatter\"},{\"attributes\":{\"axis_label\":\"\",\"bounds\":\"auto\",\"formatter\":{\"id\":\"1145\"},\"major_label_orientation\":\"horizontal\",\"ticker\":{\"id\":\"1153\"}},\"id\":\"1114\",\"type\":\"LinearAxis\"},{\"attributes\":{},\"id\":\"1236\",\"type\":\"PanTool\"},{\"attributes\":{\"data_source\":{\"id\":\"1826\"},\"glyph\":{\"id\":\"1829\"},\"hover_glyph\":null,\"muted_glyph\":{\"id\":\"1831\"},\"nonselection_glyph\":{\"id\":\"1830\"},\"selection_glyph\":null,\"view\":{\"id\":\"1833\"}},\"id\":\"1832\",\"type\":\"GlyphRenderer\"},{\"attributes\":{\"data\":{\"Variable\":[\"Numeric\",\"Others\"],\"bottom\":{\"__ndarray__\":\"AAAAAAAAAAAAAAAAAABEQA==\",\"dtype\":\"float64\",\"order\":\"little\",\"shape\":[2]},\"index\":[\"values\",\"values\"],\"top\":{\"__ndarray__\":\"AAAAAAAAREAAAAAAAABZQA==\",\"dtype\":\"float64\",\"order\":\"little\",\"shape\":[2]},\"value\":{\"__ndarray__\":\"AAAAAAAAREAAAAAAAABOQA==\",\"dtype\":\"float64\",\"order\":\"little\",\"shape\":[2]}},\"selected\":{\"id\":\"1136\"},\"selection_policy\":{\"id\":\"1150\"}},\"id\":\"1135\",\"type\":\"ColumnDataSource\"},{\"attributes\":{},\"id\":\"1147\",\"type\":\"CategoricalTickFormatter\"},{\"attributes\":{\"source\":{\"id\":\"1826\"}},\"id\":\"1833\",\"type\":\"CDSView\"},{\"attributes\":{\"fill_color\":{\"field\":\"Variable\",\"transform\":{\"id\":\"1305\"}},\"height\":{\"value\":0.8},\"left\":{\"field\":\"bottom\"},\"right\":{\"field\":\"top\"},\"y\":{\"field\":\"index\"}},\"id\":\"1309\",\"type\":\"HBar\"},{\"attributes\":{\"fill_alpha\":{\"value\":0.2},\"fill_color\":{\"field\":\"Variable\",\"transform\":{\"id\":\"1711\"}},\"height\":{\"value\":0.8},\"left\":{\"field\":\"bottom\"},\"line_alpha\":{\"value\":0.2},\"right\":{\"field\":\"top\"},\"y\":{\"field\":\"index\"}},\"id\":\"1717\",\"type\":\"HBar\"},{\"attributes\":{\"fill_alpha\":{\"value\":0.1},\"fill_color\":{\"field\":\"Variable\",\"transform\":{\"id\":\"1711\"}},\"height\":{\"value\":0.8},\"left\":{\"field\":\"bottom\"},\"line_alpha\":{\"value\":0.1},\"right\":{\"field\":\"top\"},\"y\":{\"field\":\"index\"}},\"id\":\"1716\",\"type\":\"HBar\"},{\"attributes\":{\"fill_color\":{\"field\":\"Variable\",\"transform\":{\"id\":\"1711\"}},\"height\":{\"value\":0.8},\"left\":{\"field\":\"bottom\"},\"right\":{\"field\":\"top\"},\"y\":{\"field\":\"index\"}},\"id\":\"1715\",\"type\":\"HBar\"},{\"attributes\":{\"fill_color\":{\"field\":\"Variable\",\"transform\":{\"id\":\"1768\"}},\"height\":{\"value\":0.8},\"left\":{\"field\":\"bottom\"},\"right\":{\"field\":\"top\"},\"y\":{\"field\":\"index\"}},\"id\":\"1772\",\"type\":\"HBar\"},{\"attributes\":{\"fill_alpha\":{\"value\":0.2},\"fill_color\":{\"field\":\"Variable\",\"transform\":{\"id\":\"1825\"}},\"height\":{\"value\":0.8},\"left\":{\"field\":\"bottom\"},\"line_alpha\":{\"value\":0.2},\"right\":{\"field\":\"top\"},\"y\":{\"field\":\"index\"}},\"id\":\"1831\",\"type\":\"HBar\"},{\"attributes\":{\"active_drag\":\"auto\",\"active_inspect\":\"auto\",\"active_multi\":null,\"active_scroll\":\"auto\",\"active_tap\":\"auto\",\"tools\":[{\"id\":\"1104\"},{\"id\":\"1121\"},{\"id\":\"1122\"},{\"id\":\"1123\"},{\"id\":\"1124\"},{\"id\":\"1125\"}]},\"id\":\"1127\",\"type\":\"Toolbar\"},{\"attributes\":{\"ticks\":[0]},\"id\":\"1267\",\"type\":\"FixedTicker\"},{\"attributes\":{\"fill_alpha\":{\"value\":0.1},\"fill_color\":{\"field\":\"Variable\",\"transform\":{\"id\":\"1825\"}},\"height\":{\"value\":0.8},\"left\":{\"field\":\"bottom\"},\"line_alpha\":{\"value\":0.1},\"right\":{\"field\":\"top\"},\"y\":{\"field\":\"index\"}},\"id\":\"1830\",\"type\":\"HBar\"},{\"attributes\":{\"active_drag\":\"auto\",\"active_inspect\":\"auto\",\"active_multi\":null,\"active_scroll\":\"auto\",\"active_tap\":\"auto\",\"tools\":[{\"id\":\"1681\"},{\"id\":\"1698\"},{\"id\":\"1699\"},{\"id\":\"1700\"},{\"id\":\"1701\"},{\"id\":\"1702\"}]},\"id\":\"1704\",\"type\":\"Toolbar\"},{\"attributes\":{\"fill_color\":{\"field\":\"Variable\",\"transform\":{\"id\":\"1825\"}},\"height\":{\"value\":0.8},\"left\":{\"field\":\"bottom\"},\"right\":{\"field\":\"top\"},\"y\":{\"field\":\"index\"}},\"id\":\"1829\",\"type\":\"HBar\"},{\"attributes\":{\"label\":{\"field\":\"Variable\"},\"renderers\":[{\"id\":\"1141\"}]},\"id\":\"1152\",\"type\":\"LegendItem\"},{\"attributes\":{\"fill_alpha\":{\"value\":0.1},\"fill_color\":{\"field\":\"Variable\",\"transform\":{\"id\":\"1654\"}},\"height\":{\"value\":0.8},\"left\":{\"field\":\"bottom\"},\"line_alpha\":{\"value\":0.1},\"right\":{\"field\":\"top\"},\"y\":{\"field\":\"index\"}},\"id\":\"1659\",\"type\":\"HBar\"},{\"attributes\":{},\"id\":\"1112\",\"type\":\"CategoricalScale\"},{\"attributes\":{\"bottom_units\":\"screen\",\"fill_alpha\":0.5,\"fill_color\":\"lightgrey\",\"left_units\":\"screen\",\"level\":\"overlay\",\"line_alpha\":1.0,\"line_color\":\"black\",\"line_dash\":[4,4],\"line_width\":2,\"right_units\":\"screen\",\"top_units\":\"screen\"},\"id\":\"1646\",\"type\":\"BoxAnnotation\"},{\"attributes\":{},\"id\":\"1836\",\"type\":\"BasicTickFormatter\"},{\"attributes\":{\"fill_color\":{\"field\":\"Variable\",\"transform\":{\"id\":\"1134\"}},\"height\":{\"value\":0.8},\"left\":{\"field\":\"bottom\"},\"right\":{\"field\":\"top\"},\"y\":{\"field\":\"index\"}},\"id\":\"1138\",\"type\":\"HBar\"},{\"attributes\":{},\"id\":\"1110\",\"type\":\"LinearScale\"},{\"attributes\":{},\"id\":\"1838\",\"type\":\"CategoricalTickFormatter\"},{\"attributes\":{},\"id\":\"1250\",\"type\":\"Selection\"},{\"attributes\":{\"data_source\":{\"id\":\"1655\"},\"glyph\":{\"id\":\"1658\"},\"hover_glyph\":null,\"muted_glyph\":{\"id\":\"1660\"},\"nonselection_glyph\":{\"id\":\"1659\"},\"selection_glyph\":null,\"view\":{\"id\":\"1662\"}},\"id\":\"1661\",\"type\":\"GlyphRenderer\"},{\"attributes\":{\"source\":{\"id\":\"1655\"}},\"id\":\"1662\",\"type\":\"CDSView\"},{\"attributes\":{\"text\":\"Missing Values\",\"text_color\":{\"value\":\"black\"},\"text_font_size\":{\"value\":\"12pt\"}},\"id\":\"1683\",\"type\":\"Title\"},{\"attributes\":{},\"id\":\"1687\",\"type\":\"LinearScale\"},{\"attributes\":{\"align\":null,\"below\":[{\"id\":\"1228\"}],\"center\":[{\"id\":\"1231\"},{\"id\":\"1234\"},{\"id\":\"1265\"}],\"left\":[{\"id\":\"1232\"}],\"margin\":null,\"min_border_bottom\":10,\"min_border_left\":10,\"min_border_right\":10,\"min_border_top\":10,\"plot_height\":100,\"plot_width\":700,\"renderers\":[{\"id\":\"1255\"}],\"right\":[{\"id\":\"1265\"}],\"sizing_mode\":\"fixed\",\"title\":{\"id\":\"1220\"},\"toolbar\":{\"id\":\"1241\"},\"toolbar_location\":null,\"x_range\":{\"id\":\"1102\"},\"x_scale\":{\"id\":\"1224\"},\"y_range\":{\"id\":\"1103\"},\"y_scale\":{\"id\":\"1226\"}},\"id\":\"1219\",\"subtype\":\"Figure\",\"type\":\"Plot\"},{\"attributes\":{},\"id\":\"1770\",\"type\":\"Selection\"},{\"attributes\":{},\"id\":\"1125\",\"type\":\"ResetTool\"},{\"attributes\":{\"callback\":null,\"renderers\":[{\"id\":\"1312\"}],\"tags\":[\"hv_created\"],\"tooltips\":[[\"index\",\"@{index}\"],[\"Variable\",\"@{Variable}\"],[\"value\",\"@{value}\"]]},\"id\":\"1275\",\"type\":\"HoverTool\"},{\"attributes\":{\"bottom_units\":\"screen\",\"fill_alpha\":0.5,\"fill_color\":\"lightgrey\",\"left_units\":\"screen\",\"level\":\"overlay\",\"line_alpha\":1.0,\"line_color\":\"black\",\"line_dash\":[4,4],\"line_width\":2,\"right_units\":\"screen\",\"top_units\":\"screen\"},\"id\":\"1126\",\"type\":\"BoxAnnotation\"},{\"attributes\":{\"bottom_units\":\"screen\",\"fill_alpha\":0.5,\"fill_color\":\"lightgrey\",\"left_units\":\"screen\",\"level\":\"overlay\",\"line_alpha\":1.0,\"line_color\":\"black\",\"line_dash\":[4,4],\"line_width\":2,\"right_units\":\"screen\",\"top_units\":\"screen\"},\"id\":\"1760\",\"type\":\"BoxAnnotation\"},{\"attributes\":{\"text\":\"Missing Values\",\"text_color\":{\"value\":\"black\"},\"text_font_size\":{\"value\":\"12pt\"}},\"id\":\"1163\",\"type\":\"Title\"},{\"attributes\":{\"axis\":{\"id\":\"1695\"},\"dimension\":1,\"grid_line_color\":null,\"ticker\":null},\"id\":\"1697\",\"type\":\"Grid\"},{\"attributes\":{\"axis_label\":\"\",\"bounds\":\"auto\",\"formatter\":{\"id\":\"1724\"},\"major_label_orientation\":\"horizontal\",\"ticker\":{\"id\":\"1696\"}},\"id\":\"1695\",\"type\":\"CategoricalAxis\"},{\"attributes\":{\"overlay\":{\"id\":\"1126\"}},\"id\":\"1124\",\"type\":\"BoxZoomTool\"},{\"attributes\":{\"axis\":{\"id\":\"1752\"},\"dimension\":1,\"grid_line_color\":null,\"ticker\":null},\"id\":\"1754\",\"type\":\"Grid\"},{\"attributes\":{},\"id\":\"1167\",\"type\":\"LinearScale\"},{\"attributes\":{\"active_drag\":\"auto\",\"active_inspect\":\"auto\",\"active_multi\":null,\"active_scroll\":\"auto\",\"active_tap\":\"auto\",\"tools\":[{\"id\":\"1738\"},{\"id\":\"1755\"},{\"id\":\"1756\"},{\"id\":\"1757\"},{\"id\":\"1758\"},{\"id\":\"1759\"}]},\"id\":\"1761\",\"type\":\"Toolbar\"},{\"attributes\":{\"overlay\":{\"id\":\"1297\"}},\"id\":\"1295\",\"type\":\"BoxZoomTool\"},{\"attributes\":{\"callback\":null,\"renderers\":[{\"id\":\"1718\"}],\"tags\":[\"hv_created\"],\"tooltips\":[[\"index\",\"@{index}\"],[\"Variable\",\"@{Variable}\"],[\"value\",\"@{value}\"]]},\"id\":\"1681\",\"type\":\"HoverTool\"},{\"attributes\":{},\"id\":\"1294\",\"type\":\"WheelZoomTool\"},{\"attributes\":{\"bottom_units\":\"screen\",\"fill_alpha\":0.5,\"fill_color\":\"lightgrey\",\"left_units\":\"screen\",\"level\":\"overlay\",\"line_alpha\":1.0,\"line_color\":\"black\",\"line_dash\":[4,4],\"line_width\":2,\"right_units\":\"screen\",\"top_units\":\"screen\"},\"id\":\"1297\",\"type\":\"BoxAnnotation\"},{\"attributes\":{\"ticks\":[0]},\"id\":\"1673\",\"type\":\"FixedTicker\"},{\"attributes\":{},\"id\":\"1296\",\"type\":\"ResetTool\"},{\"attributes\":{},\"id\":\"1756\",\"type\":\"PanTool\"},{\"attributes\":{},\"id\":\"1757\",\"type\":\"WheelZoomTool\"},{\"attributes\":{},\"id\":\"1759\",\"type\":\"ResetTool\"},{\"attributes\":{},\"id\":\"1755\",\"type\":\"SaveTool\"},{\"attributes\":{\"fill_alpha\":{\"value\":0.1},\"fill_color\":{\"field\":\"Variable\",\"transform\":{\"id\":\"1305\"}},\"height\":{\"value\":0.8},\"left\":{\"field\":\"bottom\"},\"line_alpha\":{\"value\":0.1},\"right\":{\"field\":\"top\"},\"y\":{\"field\":\"index\"}},\"id\":\"1310\",\"type\":\"HBar\"},{\"attributes\":{\"overlay\":{\"id\":\"1760\"}},\"id\":\"1758\",\"type\":\"BoxZoomTool\"},{\"attributes\":{\"active_drag\":\"auto\",\"active_inspect\":\"auto\",\"active_multi\":null,\"active_scroll\":\"auto\",\"active_tap\":\"auto\",\"tools\":[{\"id\":\"1275\"},{\"id\":\"1292\"},{\"id\":\"1293\"},{\"id\":\"1294\"},{\"id\":\"1295\"},{\"id\":\"1296\"}]},\"id\":\"1298\",\"type\":\"Toolbar\"},{\"attributes\":{},\"id\":\"1207\",\"type\":\"UnionRenderers\"},{\"attributes\":{},\"id\":\"1689\",\"type\":\"CategoricalScale\"},{\"attributes\":{\"factors\":[\"Numeric\",\"Others\"],\"palette\":[\"#1f77b3\",\"#ff7e0e\"]},\"id\":\"1654\",\"type\":\"CategoricalColorMapper\"},{\"attributes\":{},\"id\":\"1202\",\"type\":\"BasicTickFormatter\"},{\"attributes\":{\"child\":{\"id\":\"1368\"},\"name\":\"orders\",\"title\":\"orders\"},\"id\":\"1621\",\"type\":\"Panel\"},{\"attributes\":{\"callback\":null,\"renderers\":[{\"id\":\"1775\"}],\"tags\":[\"hv_created\"],\"tooltips\":[[\"index\",\"@{index}\"],[\"Variable\",\"@{Variable}\"],[\"value\",\"@{value}\"]]},\"id\":\"1738\",\"type\":\"HoverTool\"},{\"attributes\":{\"axis_label\":\"\",\"bounds\":\"auto\",\"formatter\":{\"id\":\"1722\"},\"major_label_orientation\":\"horizontal\",\"ticker\":{\"id\":\"1730\"}},\"id\":\"1691\",\"type\":\"LinearAxis\"},{\"attributes\":{},\"id\":\"1204\",\"type\":\"CategoricalTickFormatter\"},{\"attributes\":{},\"id\":\"1696\",\"type\":\"CategoricalTicker\"},{\"attributes\":{},\"id\":\"1753\",\"type\":\"CategoricalTicker\"},{\"attributes\":{\"factors\":[\"Unique\",\"Duplicate\"],\"palette\":[\"#1f77b3\",\"#ff7e0e\"]},\"id\":\"1305\",\"type\":\"CategoricalColorMapper\"},{\"attributes\":{\"align\":null,\"below\":[{\"id\":\"1691\"}],\"center\":[{\"id\":\"1694\"},{\"id\":\"1697\"},{\"id\":\"1728\"}],\"left\":[{\"id\":\"1695\"}],\"margin\":null,\"min_border_bottom\":10,\"min_border_left\":10,\"min_border_right\":10,\"min_border_top\":10,\"plot_height\":100,\"plot_width\":700,\"renderers\":[{\"id\":\"1718\"}],\"right\":[{\"id\":\"1728\"}],\"sizing_mode\":\"fixed\",\"title\":{\"id\":\"1683\"},\"toolbar\":{\"id\":\"1704\"},\"toolbar_location\":null,\"x_range\":{\"id\":\"1102\"},\"x_scale\":{\"id\":\"1687\"},\"y_range\":{\"id\":\"1103\"},\"y_scale\":{\"id\":\"1689\"}},\"id\":\"1682\",\"subtype\":\"Figure\",\"type\":\"Plot\"},{\"attributes\":{\"axis\":{\"id\":\"1691\"},\"grid_line_color\":null,\"ticker\":null},\"id\":\"1694\",\"type\":\"Grid\"},{\"attributes\":{\"margin\":[0,0,0,0],\"tabs\":[{\"id\":\"1621\"},{\"id\":\"2141\"}]},\"id\":\"1101\",\"type\":\"Tabs\"},{\"attributes\":{\"text\":\"Duplicate Values\",\"text_color\":{\"value\":\"black\"},\"text_font_size\":{\"value\":\"12pt\"}},\"id\":\"1220\",\"type\":\"Title\"},{\"attributes\":{\"axis_label\":\"\",\"bounds\":\"auto\",\"formatter\":{\"id\":\"1781\"},\"major_label_orientation\":\"horizontal\",\"ticker\":{\"id\":\"1753\"}},\"id\":\"1752\",\"type\":\"CategoricalAxis\"},{\"attributes\":{\"callback\":null,\"renderers\":[{\"id\":\"1198\"}],\"tags\":[\"hv_created\"],\"tooltips\":[[\"index\",\"@{index}\"],[\"Variable\",\"@{Variable}\"],[\"value\",\"@{value}\"]]},\"id\":\"1161\",\"type\":\"HoverTool\"},{\"attributes\":{\"fill_color\":{\"field\":\"Variable\",\"transform\":{\"id\":\"1191\"}},\"height\":{\"value\":0.8},\"left\":{\"field\":\"bottom\"},\"right\":{\"field\":\"top\"},\"y\":{\"field\":\"index\"}},\"id\":\"1195\",\"type\":\"HBar\"}],\"root_ids\":[\"1101\",\"2310\"]},\"title\":\"Bokeh Application\",\"version\":\"2.2.3\"}};\n",
       "  var render_items = [{\"docid\":\"1c846234-6c2b-43ff-927f-7d601537bef3\",\"root_ids\":[\"1101\"],\"roots\":{\"1101\":\"877253fa-8fd6-4fd3-9770-be5ccd40f9b9\"}}];\n",
       "  root.Bokeh.embed.embed_items_notebook(docs_json, render_items);\n",
       "  }\n",
       "if (root.Bokeh !== undefined) {\n",
       "    embed_document(root);\n",
       "  } else {\n",
       "    var attempts = 0;\n",
       "    var timer = setInterval(function(root) {\n",
       "      if (root.Bokeh !== undefined) {\n",
       "        clearInterval(timer);\n",
       "        embed_document(root);\n",
       "      } else if (document.readyState == \"complete\") {\n",
       "        attempts++;\n",
       "        if (attempts > 100) {\n",
       "          clearInterval(timer);\n",
       "          console.log(\"Bokeh: ERROR: Unable to run BokehJS code because BokehJS library is missing\");\n",
       "        }\n",
       "      }\n",
       "    }, 10, root)\n",
       "  }\n",
       "})(window);</script>"
      ],
      "text/plain": [
       "Tabs\n",
       "    [0] HoloViews(Layout, name='orders')\n",
       "    [1] HoloViews(Layout, name='product')"
      ]
     },
     "execution_count": 22,
     "metadata": {
      "application/vnd.holoviews_exec.v0+json": {
       "id": "1101"
      }
     },
     "output_type": "execute_result"
    }
   ],
   "source": [
    "sum1, plot1 = eda.get_data_health_summary(orders_df, return_plot=True)\n",
    "sum2, plot2 = eda.get_data_health_summary(prod_df, return_plot=True)\n",
    "\n",
    "display_as_tabs([('orders', plot1), ('product', plot2)])"
   ]
  },
  {
   "cell_type": "markdown",
   "metadata": {},
   "source": [
    "**Dev NOTES**\n",
    "\n",
    "<details>\n",
    "1. Datatypes : We have both numeric and other types. The bulk of them seem to be numeric. `Numeric` is defined to be one of [float|int|date] and the rest are categorized as `Others`. A column is assumed to have `date` values if it has the string `date` in the column name.\n",
    "\n",
    "2. The missing value plot seems to indicate missing values are not present but we do have them. \n",
    "\n",
    "3. We are looking for duplicate observations (rows in the data). The plot shows the % of rows that are an exact replica of another row (using `df.duplicated`)\n",
    "\n",
    "4. We are looking for duplicate features (columns in the data).\n",
    "\n",
    "</details>"
   ]
  },
  {
   "cell_type": "markdown",
   "metadata": {},
   "source": [
    "### Missing Values summary\n",
    "\n",
    "This provides an overall view focussing on amount of missing values in the dataset.\n",
    "\n",
    "**Watch out for:**\n",
    "* A few columns have significant number of missing values \n",
    "* Most columns have significant number of missing values\n"
   ]
  },
  {
   "cell_type": "code",
   "execution_count": 23,
   "metadata": {},
   "outputs": [
    {
     "data": {},
     "metadata": {},
     "output_type": "display_data"
    },
    {
     "data": {},
     "metadata": {},
     "output_type": "display_data"
    },
    {
     "data": {
      "application/vnd.holoviews_exec.v0+json": "",
      "text/html": [
       "<div id='2591'>\n",
       "\n",
       "\n",
       "\n",
       "\n",
       "\n",
       "  <div class=\"bk-root\" id=\"a40f523c-04aa-4f07-a008-6df271573f94\" data-root-id=\"2591\"></div>\n",
       "</div>\n",
       "<script type=\"application/javascript\">(function(root) {\n",
       "  function embed_document(root) {\n",
       "  var docs_json = {\"7e3abde1-bab0-4724-9d71-8c9d7f42caff\":{\"roots\":{\"references\":[{\"attributes\":{},\"id\":\"2611\",\"type\":\"SaveTool\"},{\"attributes\":{\"fill_color\":{\"value\":\"#1f77b3\"},\"top\":{\"field\":\"A_0\"},\"width\":{\"value\":0.8},\"x\":{\"field\":\"index\"}},\"id\":\"2627\",\"type\":\"VBar\"},{\"attributes\":{},\"id\":\"2625\",\"type\":\"Selection\"},{\"attributes\":{\"child\":{\"id\":\"2656\"},\"name\":\"product\",\"title\":\"product\"},\"id\":\"2713\",\"type\":\"Panel\"},{\"attributes\":{},\"id\":\"2605\",\"type\":\"CategoricalTicker\"},{\"attributes\":{\"axis\":{\"id\":\"2604\"},\"grid_line_color\":null,\"ticker\":null},\"id\":\"2606\",\"type\":\"Grid\"},{\"attributes\":{\"fill_alpha\":{\"value\":0.1},\"fill_color\":{\"value\":\"#1f77b3\"},\"line_alpha\":{\"value\":0.1},\"top\":{\"field\":\"A_0\"},\"width\":{\"value\":0.8},\"x\":{\"field\":\"index\"}},\"id\":\"2628\",\"type\":\"VBar\"},{\"attributes\":{\"source\":{\"id\":\"2624\"}},\"id\":\"2631\",\"type\":\"CDSView\"},{\"attributes\":{},\"id\":\"2674\",\"type\":\"WheelZoomTool\"},{\"attributes\":{},\"id\":\"2600\",\"type\":\"CategoricalScale\"},{\"attributes\":{},\"id\":\"2608\",\"type\":\"BasicTicker\"},{\"attributes\":{\"text\":\"Missing Variables - Data Shape:(174813, 25)\",\"text_color\":{\"value\":\"black\"},\"text_font_size\":{\"value\":\"12pt\"}},\"id\":\"2596\",\"type\":\"Title\"},{\"attributes\":{},\"id\":\"2612\",\"type\":\"PanTool\"},{\"attributes\":{},\"id\":\"2635\",\"type\":\"BasicTickFormatter\"},{\"attributes\":{},\"id\":\"2663\",\"type\":\"LinearScale\"},{\"attributes\":{},\"id\":\"2613\",\"type\":\"WheelZoomTool\"},{\"attributes\":{},\"id\":\"2602\",\"type\":\"LinearScale\"},{\"attributes\":{\"callback\":null,\"renderers\":[{\"id\":\"2691\"}],\"tags\":[\"hv_created\"],\"tooltips\":[[\"index\",\"@{index}\"],[\"0\",\"@{A_0}\"]]},\"id\":\"2655\",\"type\":\"HoverTool\"},{\"attributes\":{},\"id\":\"2694\",\"type\":\"CategoricalTickFormatter\"},{\"attributes\":{\"axis_label\":\"# of variables\",\"bounds\":\"auto\",\"formatter\":{\"id\":\"2635\"},\"major_label_orientation\":\"horizontal\",\"ticker\":{\"id\":\"2608\"}},\"id\":\"2607\",\"type\":\"LinearAxis\"},{\"attributes\":{\"axis\":{\"id\":\"2665\"},\"grid_line_color\":null,\"ticker\":null},\"id\":\"2667\",\"type\":\"Grid\"},{\"attributes\":{\"fill_alpha\":{\"value\":0.1},\"fill_color\":{\"value\":\"#1f77b3\"},\"line_alpha\":{\"value\":0.1},\"top\":{\"field\":\"A_0\"},\"width\":{\"value\":0.8},\"x\":{\"field\":\"index\"}},\"id\":\"2689\",\"type\":\"VBar\"},{\"attributes\":{\"data_source\":{\"id\":\"2624\"},\"glyph\":{\"id\":\"2627\"},\"hover_glyph\":null,\"muted_glyph\":{\"id\":\"2629\"},\"nonselection_glyph\":{\"id\":\"2628\"},\"selection_glyph\":null,\"view\":{\"id\":\"2631\"}},\"id\":\"2630\",\"type\":\"GlyphRenderer\"},{\"attributes\":{},\"id\":\"2633\",\"type\":\"CategoricalTickFormatter\"},{\"attributes\":{\"overlay\":{\"id\":\"2616\"}},\"id\":\"2614\",\"type\":\"BoxZoomTool\"},{\"attributes\":{\"fill_alpha\":{\"value\":0.2},\"fill_color\":{\"value\":\"#1f77b3\"},\"line_alpha\":{\"value\":0.2},\"top\":{\"field\":\"A_0\"},\"width\":{\"value\":0.8},\"x\":{\"field\":\"index\"}},\"id\":\"2629\",\"type\":\"VBar\"},{\"attributes\":{},\"id\":\"2666\",\"type\":\"CategoricalTicker\"},{\"attributes\":{\"end\":25.3,\"reset_end\":25.3,\"reset_start\":0.0,\"tags\":[[[\"0\",\"0\",null]]]},\"id\":\"2593\",\"type\":\"Range1d\"},{\"attributes\":{},\"id\":\"2686\",\"type\":\"Selection\"},{\"attributes\":{},\"id\":\"2661\",\"type\":\"CategoricalScale\"},{\"attributes\":{\"axis_label\":\"# of missing observations\",\"bounds\":\"auto\",\"formatter\":{\"id\":\"2633\"},\"major_label_orientation\":\"horizontal\",\"ticker\":{\"id\":\"2605\"}},\"id\":\"2604\",\"type\":\"CategoricalAxis\"},{\"attributes\":{\"bottom_units\":\"screen\",\"fill_alpha\":0.5,\"fill_color\":\"lightgrey\",\"left_units\":\"screen\",\"level\":\"overlay\",\"line_alpha\":1.0,\"line_color\":\"black\",\"line_dash\":[4,4],\"line_width\":2,\"right_units\":\"screen\",\"top_units\":\"screen\"},\"id\":\"2677\",\"type\":\"BoxAnnotation\"},{\"attributes\":{},\"id\":\"2615\",\"type\":\"ResetTool\"},{\"attributes\":{\"fill_color\":{\"value\":\"#1f77b3\"},\"top\":{\"field\":\"A_0\"},\"width\":{\"value\":0.8},\"x\":{\"field\":\"index\"}},\"id\":\"2688\",\"type\":\"VBar\"},{\"attributes\":{\"source\":{\"id\":\"2685\"}},\"id\":\"2692\",\"type\":\"CDSView\"},{\"attributes\":{\"data_source\":{\"id\":\"2685\"},\"glyph\":{\"id\":\"2688\"},\"hover_glyph\":null,\"muted_glyph\":{\"id\":\"2690\"},\"nonselection_glyph\":{\"id\":\"2689\"},\"selection_glyph\":null,\"view\":{\"id\":\"2692\"}},\"id\":\"2691\",\"type\":\"GlyphRenderer\"},{\"attributes\":{\"callback\":null,\"renderers\":[{\"id\":\"2630\"}],\"tags\":[\"hv_created\"],\"tooltips\":[[\"index\",\"@{index}\"],[\"0\",\"@{A_0}\"]]},\"id\":\"2594\",\"type\":\"HoverTool\"},{\"attributes\":{\"active_drag\":\"auto\",\"active_inspect\":\"auto\",\"active_multi\":null,\"active_scroll\":\"auto\",\"active_tap\":\"auto\",\"tools\":[{\"id\":\"2655\"},{\"id\":\"2672\"},{\"id\":\"2673\"},{\"id\":\"2674\"},{\"id\":\"2675\"},{\"id\":\"2676\"}]},\"id\":\"2678\",\"type\":\"Toolbar\"},{\"attributes\":{},\"id\":\"2704\",\"type\":\"UnionRenderers\"},{\"attributes\":{\"align\":null,\"below\":[{\"id\":\"2604\"}],\"center\":[{\"id\":\"2606\"},{\"id\":\"2610\"}],\"left\":[{\"id\":\"2607\"}],\"margin\":null,\"min_border_bottom\":10,\"min_border_left\":10,\"min_border_right\":10,\"min_border_top\":10,\"plot_height\":300,\"plot_width\":700,\"renderers\":[{\"id\":\"2630\"}],\"sizing_mode\":\"fixed\",\"title\":{\"id\":\"2596\"},\"toolbar\":{\"id\":\"2617\"},\"x_range\":{\"id\":\"2592\"},\"x_scale\":{\"id\":\"2600\"},\"y_range\":{\"id\":\"2593\"},\"y_scale\":{\"id\":\"2602\"}},\"id\":\"2595\",\"subtype\":\"Figure\",\"type\":\"Plot\"},{\"attributes\":{\"axis_label\":\"# of variables\",\"bounds\":\"auto\",\"formatter\":{\"id\":\"2696\"},\"major_label_orientation\":\"horizontal\",\"ticker\":{\"id\":\"2669\"}},\"id\":\"2668\",\"type\":\"LinearAxis\"},{\"attributes\":{\"overlay\":{\"id\":\"2677\"}},\"id\":\"2675\",\"type\":\"BoxZoomTool\"},{\"attributes\":{\"axis\":{\"id\":\"2668\"},\"dimension\":1,\"grid_line_color\":null,\"ticker\":null},\"id\":\"2671\",\"type\":\"Grid\"},{\"attributes\":{},\"id\":\"2673\",\"type\":\"PanTool\"},{\"attributes\":{\"axis\":{\"id\":\"2607\"},\"dimension\":1,\"grid_line_color\":null,\"ticker\":null},\"id\":\"2610\",\"type\":\"Grid\"},{\"attributes\":{\"align\":null,\"below\":[{\"id\":\"2665\"}],\"center\":[{\"id\":\"2667\"},{\"id\":\"2671\"}],\"left\":[{\"id\":\"2668\"}],\"margin\":null,\"min_border_bottom\":10,\"min_border_left\":10,\"min_border_right\":10,\"min_border_top\":10,\"plot_height\":300,\"plot_width\":700,\"renderers\":[{\"id\":\"2691\"}],\"sizing_mode\":\"fixed\",\"title\":{\"id\":\"2657\"},\"toolbar\":{\"id\":\"2678\"},\"x_range\":{\"id\":\"2592\"},\"x_scale\":{\"id\":\"2661\"},\"y_range\":{\"id\":\"2593\"},\"y_scale\":{\"id\":\"2663\"}},\"id\":\"2656\",\"subtype\":\"Figure\",\"type\":\"Plot\"},{\"attributes\":{\"data\":{\"A_0\":[23,2,0,0,0,0,0,0],\"index\":[\"No Missing\",\"0-5%\",\"5-10%\",\"10-20%\",\"20-30%\",\"30-40%\",\"40-50%\",\"50-100%\"]},\"selected\":{\"id\":\"2625\"},\"selection_policy\":{\"id\":\"2643\"}},\"id\":\"2624\",\"type\":\"ColumnDataSource\"},{\"attributes\":{},\"id\":\"2669\",\"type\":\"BasicTicker\"},{\"attributes\":{\"client_comm_id\":\"dbce84a436d04afd9def38ad07e43a8e\",\"comm_id\":\"5721b7b5c4cb494b9b2398c8d2d70aef\",\"plot_id\":\"2591\"},\"id\":\"2762\",\"type\":\"panel.models.comm_manager.CommManager\"},{\"attributes\":{\"child\":{\"id\":\"2595\"},\"name\":\"orders\",\"title\":\"orders\"},\"id\":\"2652\",\"type\":\"Panel\"},{\"attributes\":{\"factors\":[\"No Missing\",\"0-5%\",\"5-10%\",\"10-20%\",\"20-30%\",\"30-40%\",\"40-50%\",\"50-100%\"],\"tags\":[[[\"index\",\"index\",null]]]},\"id\":\"2592\",\"type\":\"FactorRange\"},{\"attributes\":{},\"id\":\"2696\",\"type\":\"BasicTickFormatter\"},{\"attributes\":{\"margin\":[0,0,0,0],\"tabs\":[{\"id\":\"2652\"},{\"id\":\"2713\"}]},\"id\":\"2591\",\"type\":\"Tabs\"},{\"attributes\":{},\"id\":\"2643\",\"type\":\"UnionRenderers\"},{\"attributes\":{},\"id\":\"2676\",\"type\":\"ResetTool\"},{\"attributes\":{\"fill_alpha\":{\"value\":0.2},\"fill_color\":{\"value\":\"#1f77b3\"},\"line_alpha\":{\"value\":0.2},\"top\":{\"field\":\"A_0\"},\"width\":{\"value\":0.8},\"x\":{\"field\":\"index\"}},\"id\":\"2690\",\"type\":\"VBar\"},{\"attributes\":{\"axis_label\":\"# of missing observations\",\"bounds\":\"auto\",\"formatter\":{\"id\":\"2694\"},\"major_label_orientation\":\"horizontal\",\"ticker\":{\"id\":\"2666\"}},\"id\":\"2665\",\"type\":\"CategoricalAxis\"},{\"attributes\":{},\"id\":\"2672\",\"type\":\"SaveTool\"},{\"attributes\":{\"data\":{\"A_0\":[5,4,0,0,0,0,0,0],\"index\":[\"No Missing\",\"0-5%\",\"5-10%\",\"10-20%\",\"20-30%\",\"30-40%\",\"40-50%\",\"50-100%\"]},\"selected\":{\"id\":\"2686\"},\"selection_policy\":{\"id\":\"2704\"}},\"id\":\"2685\",\"type\":\"ColumnDataSource\"},{\"attributes\":{\"bottom_units\":\"screen\",\"fill_alpha\":0.5,\"fill_color\":\"lightgrey\",\"left_units\":\"screen\",\"level\":\"overlay\",\"line_alpha\":1.0,\"line_color\":\"black\",\"line_dash\":[4,4],\"line_width\":2,\"right_units\":\"screen\",\"top_units\":\"screen\"},\"id\":\"2616\",\"type\":\"BoxAnnotation\"},{\"attributes\":{\"text\":\"Missing Variables - Data Shape:(13544, 9)\",\"text_color\":{\"value\":\"black\"},\"text_font_size\":{\"value\":\"12pt\"}},\"id\":\"2657\",\"type\":\"Title\"},{\"attributes\":{\"active_drag\":\"auto\",\"active_inspect\":\"auto\",\"active_multi\":null,\"active_scroll\":\"auto\",\"active_tap\":\"auto\",\"tools\":[{\"id\":\"2594\"},{\"id\":\"2611\"},{\"id\":\"2612\"},{\"id\":\"2613\"},{\"id\":\"2614\"},{\"id\":\"2615\"}]},\"id\":\"2617\",\"type\":\"Toolbar\"}],\"root_ids\":[\"2591\",\"2762\"]},\"title\":\"Bokeh Application\",\"version\":\"2.2.3\"}};\n",
       "  var render_items = [{\"docid\":\"7e3abde1-bab0-4724-9d71-8c9d7f42caff\",\"root_ids\":[\"2591\"],\"roots\":{\"2591\":\"a40f523c-04aa-4f07-a008-6df271573f94\"}}];\n",
       "  root.Bokeh.embed.embed_items_notebook(docs_json, render_items);\n",
       "  }\n",
       "if (root.Bokeh !== undefined) {\n",
       "    embed_document(root);\n",
       "  } else {\n",
       "    var attempts = 0;\n",
       "    var timer = setInterval(function(root) {\n",
       "      if (root.Bokeh !== undefined) {\n",
       "        clearInterval(timer);\n",
       "        embed_document(root);\n",
       "      } else if (document.readyState == \"complete\") {\n",
       "        attempts++;\n",
       "        if (attempts > 100) {\n",
       "          clearInterval(timer);\n",
       "          console.log(\"Bokeh: ERROR: Unable to run BokehJS code because BokehJS library is missing\");\n",
       "        }\n",
       "      }\n",
       "    }, 10, root)\n",
       "  }\n",
       "})(window);</script>"
      ],
      "text/plain": [
       "Tabs\n",
       "    [0] HoloViews(Bars, name='orders')\n",
       "    [1] HoloViews(Bars, name='product')"
      ]
     },
     "execution_count": 23,
     "metadata": {
      "application/vnd.holoviews_exec.v0+json": {
       "id": "2591"
      }
     },
     "output_type": "execute_result"
    }
   ],
   "source": [
    "sum1, plot1 = eda.get_missing_values_summary(orders_df, return_plot=True)\n",
    "sum2, plot2 = eda.get_missing_values_summary(prod_df, return_plot=True)\n",
    "\n",
    "display_as_tabs([('orders', plot1), ('product', plot2)])"
   ]
  },
  {
   "cell_type": "markdown",
   "metadata": {},
   "source": [
    "**Dev notes:**\n",
    "\n",
    "<details>\n",
    "    \n",
    "    * By default, the following are considered missing/NA values : `[np.Nan, pd.NaT, 'NA', None]`\n",
    "    * additional values can be passed to tigerml (add_additional_na_values)\n",
    "    * these are applied to all columns.\n",
    "    \n",
    "    * some of the above information can be learnt from the data discovery step (see discussion below)\n",
    "    \n",
    "</details>"
   ]
  },
  {
   "cell_type": "code",
   "execution_count": 24,
   "metadata": {},
   "outputs": [
    {
     "data": {},
     "metadata": {},
     "output_type": "display_data"
    },
    {
     "data": {
      "application/vnd.holoviews_exec.v0+json": "",
      "text/html": [
       "<div id='2843'>\n",
       "\n",
       "\n",
       "\n",
       "\n",
       "\n",
       "  <div class=\"bk-root\" id=\"a6bb9437-b866-4b3f-9389-c81df33a863b\" data-root-id=\"2843\"></div>\n",
       "</div>\n",
       "<script type=\"application/javascript\">(function(root) {\n",
       "  function embed_document(root) {\n",
       "  var docs_json = {\"dcbe4f65-4e46-4637-9cb6-1dfce8f13dd1\":{\"roots\":{\"references\":[{\"attributes\":{\"child\":{\"id\":\"2844\"},\"name\":\"orders\",\"title\":\"orders\"},\"id\":\"2845\",\"type\":\"Panel\"},{\"attributes\":{\"client_comm_id\":\"8f3d0e3b8c3f4a7f959811513238a340\",\"comm_id\":\"ae918ec8bd85498cb5642a7cb1697650\",\"plot_id\":\"2843\"},\"id\":\"2848\",\"type\":\"panel.models.comm_manager.CommManager\"},{\"attributes\":{\"margin\":[0,0,0,0],\"tabs\":[{\"id\":\"2845\"},{\"id\":\"2847\"}]},\"id\":\"2843\",\"type\":\"Tabs\"},{\"attributes\":{\"child\":{\"id\":\"2846\"},\"name\":\"product\",\"title\":\"product\"},\"id\":\"2847\",\"type\":\"Panel\"},{\"attributes\":{\"css_classes\":[\"markdown\"],\"margin\":[5,5,5,5],\"name\":\"orders\",\"text\":\"&lt;p&gt;No duplicate variables&lt;/p&gt;\"},\"id\":\"2844\",\"type\":\"panel.models.markup.HTML\"},{\"attributes\":{\"css_classes\":[\"markdown\"],\"margin\":[5,5,5,5],\"name\":\"product\",\"text\":\"&lt;p&gt;No duplicate variables&lt;/p&gt;\"},\"id\":\"2846\",\"type\":\"panel.models.markup.HTML\"}],\"root_ids\":[\"2843\",\"2848\"]},\"title\":\"Bokeh Application\",\"version\":\"2.2.3\"}};\n",
       "  var render_items = [{\"docid\":\"dcbe4f65-4e46-4637-9cb6-1dfce8f13dd1\",\"root_ids\":[\"2843\"],\"roots\":{\"2843\":\"a6bb9437-b866-4b3f-9389-c81df33a863b\"}}];\n",
       "  root.Bokeh.embed.embed_items_notebook(docs_json, render_items);\n",
       "  }\n",
       "if (root.Bokeh !== undefined) {\n",
       "    embed_document(root);\n",
       "  } else {\n",
       "    var attempts = 0;\n",
       "    var timer = setInterval(function(root) {\n",
       "      if (root.Bokeh !== undefined) {\n",
       "        clearInterval(timer);\n",
       "        embed_document(root);\n",
       "      } else if (document.readyState == \"complete\") {\n",
       "        attempts++;\n",
       "        if (attempts > 100) {\n",
       "          clearInterval(timer);\n",
       "          console.log(\"Bokeh: ERROR: Unable to run BokehJS code because BokehJS library is missing\");\n",
       "        }\n",
       "      }\n",
       "    }, 10, root)\n",
       "  }\n",
       "})(window);</script>"
      ],
      "text/plain": [
       "Tabs\n",
       "    [0] Markdown(str, name='orders')\n",
       "    [1] Markdown(str, name='product')"
      ]
     },
     "execution_count": 24,
     "metadata": {
      "application/vnd.holoviews_exec.v0+json": {
       "id": "2843"
      }
     },
     "output_type": "execute_result"
    }
   ],
   "source": [
    "sum1 = eda.get_duplicate_columns(orders_df)\n",
    "sum2 = eda.get_duplicate_columns(prod_df)\n",
    "\n",
    "display_as_tabs([('orders', sum1), ('product', sum2)])"
   ]
  },
  {
   "cell_type": "code",
   "execution_count": 25,
   "metadata": {},
   "outputs": [
    {
     "data": {},
     "metadata": {},
     "output_type": "display_data"
    },
    {
     "data": {
      "application/vnd.holoviews_exec.v0+json": "",
      "text/html": [
       "<div id='2849'>\n",
       "\n",
       "\n",
       "\n",
       "\n",
       "\n",
       "  <div class=\"bk-root\" id=\"11380337-c174-4898-a806-7a3aef6242f1\" data-root-id=\"2849\"></div>\n",
       "</div>\n",
       "<script type=\"application/javascript\">(function(root) {\n",
       "  function embed_document(root) {\n",
       "  var docs_json = {\"787c2fb6-199b-4dee-b7ee-c663ed5bff88\":{\"roots\":{\"references\":[{\"attributes\":{},\"id\":\"2876\",\"type\":\"NumberFormatter\"},{\"attributes\":{\"editor\":{\"id\":\"2867\"},\"field\":\"('Data Shape:(174813, 25)', '< (1stQ - 1.5 * IQR)')\",\"formatter\":{\"id\":\"2866\"},\"title\":\"('Data Shape:(174813, 25)', '< (1stQ - 1.5 * IQR)')\",\"width\":null},\"id\":\"2868\",\"type\":\"TableColumn\"},{\"attributes\":{\"child\":{\"id\":\"2890\"},\"name\":\"product\",\"title\":\"product\"},\"id\":\"2891\",\"type\":\"Panel\"},{\"attributes\":{\"editor\":{\"id\":\"2882\"},\"field\":\"('Data Shape:(174813, 25)', '+inf')\",\"formatter\":{\"id\":\"2881\"},\"title\":\"('Data Shape:(174813, 25)', '+inf')\",\"width\":null},\"id\":\"2883\",\"type\":\"TableColumn\"},{\"attributes\":{\"editor\":{\"id\":\"2877\"},\"field\":\"('Data Shape:(174813, 25)', '-inf')\",\"formatter\":{\"id\":\"2876\"},\"title\":\"('Data Shape:(174813, 25)', '-inf')\",\"width\":null},\"id\":\"2878\",\"type\":\"TableColumn\"},{\"attributes\":{},\"id\":\"2852\",\"type\":\"StringEditor\"},{\"attributes\":{\"child\":{\"id\":\"2886\"},\"name\":\"orders\",\"title\":\"orders\"},\"id\":\"2889\",\"type\":\"Panel\"},{\"attributes\":{},\"id\":\"2888\",\"type\":\"Selection\"},{\"attributes\":{},\"id\":\"2867\",\"type\":\"IntEditor\"},{\"attributes\":{\"css_classes\":[\"markdown\"],\"margin\":[5,5,5,5],\"name\":\"product\",\"text\":\"&lt;p&gt;No Outlier Values&lt;/p&gt;\"},\"id\":\"2890\",\"type\":\"panel.models.markup.HTML\"},{\"attributes\":{},\"id\":\"2882\",\"type\":\"IntEditor\"},{\"attributes\":{\"editor\":{\"id\":\"2852\"},\"field\":\"index\",\"formatter\":{\"id\":\"2851\"},\"title\":\"index\",\"width\":null},\"id\":\"2853\",\"type\":\"TableColumn\"},{\"attributes\":{\"columns\":[{\"id\":\"2853\"},{\"id\":\"2858\"},{\"id\":\"2863\"},{\"id\":\"2868\"},{\"id\":\"2873\"},{\"id\":\"2878\"},{\"id\":\"2883\"}],\"editable\":true,\"fit_columns\":true,\"height\":255,\"index_position\":null,\"margin\":[5,10,5,10],\"name\":\"orders\",\"source\":{\"id\":\"2850\"},\"view\":{\"id\":\"2887\"}},\"id\":\"2886\",\"type\":\"DataTable\"},{\"attributes\":{},\"id\":\"2881\",\"type\":\"NumberFormatter\"},{\"attributes\":{\"margin\":[0,0,0,0],\"tabs\":[{\"id\":\"2889\"},{\"id\":\"2891\"}]},\"id\":\"2849\",\"type\":\"Tabs\"},{\"attributes\":{},\"id\":\"2851\",\"type\":\"StringFormatter\"},{\"attributes\":{},\"id\":\"2871\",\"type\":\"NumberFormatter\"},{\"attributes\":{},\"id\":\"2861\",\"type\":\"NumberFormatter\"},{\"attributes\":{\"editor\":{\"id\":\"2862\"},\"field\":\"('Data Shape:(174813, 25)', '> (mean+3*std)')\",\"formatter\":{\"id\":\"2861\"},\"title\":\"('Data Shape:(174813, 25)', '> (mean+3*std)')\",\"width\":null},\"id\":\"2863\",\"type\":\"TableColumn\"},{\"attributes\":{\"editor\":{\"id\":\"2857\"},\"field\":\"('Data Shape:(174813, 25)', '< (mean-3*std)')\",\"formatter\":{\"id\":\"2856\"},\"title\":\"('Data Shape:(174813, 25)', '< (mean-3*std)')\",\"width\":null},\"id\":\"2858\",\"type\":\"TableColumn\"},{\"attributes\":{\"editor\":{\"id\":\"2872\"},\"field\":\"('Data Shape:(174813, 25)', '> (3rdQ + 1.5 * IQR)')\",\"formatter\":{\"id\":\"2871\"},\"title\":\"('Data Shape:(174813, 25)', '> (3rdQ + 1.5 * IQR)')\",\"width\":null},\"id\":\"2873\",\"type\":\"TableColumn\"},{\"attributes\":{},\"id\":\"2862\",\"type\":\"IntEditor\"},{\"attributes\":{},\"id\":\"2872\",\"type\":\"IntEditor\"},{\"attributes\":{},\"id\":\"2877\",\"type\":\"IntEditor\"},{\"attributes\":{},\"id\":\"2893\",\"type\":\"UnionRenderers\"},{\"attributes\":{},\"id\":\"2857\",\"type\":\"IntEditor\"},{\"attributes\":{\"source\":{\"id\":\"2850\"}},\"id\":\"2887\",\"type\":\"CDSView\"},{\"attributes\":{},\"id\":\"2856\",\"type\":\"NumberFormatter\"},{\"attributes\":{\"data\":{\"('Data Shape:(174813, 25)', '+inf')\":[0,0,0,0,0,0,0,0,0],\"('Data Shape:(174813, 25)', '-inf')\":[0,0,0,0,0,0,0,0,0],\"('Data Shape:(174813, 25)', '< (1stQ - 1.5 * IQR)')\":[174,10552,0,226,0,0,546,397,8791],\"('Data Shape:(174813, 25)', '< (mean-3*std)')\":[340,8988,0,1,0,0,1,1,270],\"('Data Shape:(174813, 25)', '> (3rdQ + 1.5 * IQR)')\":[0,11010,16279,19070,10675,13028,21995,22465,20290],\"('Data Shape:(174813, 25)', '> (mean+3*std)')\":[0,0,5150,1067,3283,3572,646,582,231],\"index\":[\"Orderno\",\"BusinessUnit\",\"Line\",\"Quantity\",\"UnitCost\",\"UnitPrice\",\"SellingPrice\",\"SellingCost\",\"GP\"]},\"selected\":{\"id\":\"2888\"},\"selection_policy\":{\"id\":\"2893\"}},\"id\":\"2850\",\"type\":\"ColumnDataSource\"},{\"attributes\":{\"client_comm_id\":\"a9c2a97b38a844f199eb220ee5413654\",\"comm_id\":\"a8f16035c56f4f8eb0e6311fb32eec16\",\"plot_id\":\"2849\"},\"id\":\"2898\",\"type\":\"panel.models.comm_manager.CommManager\"},{\"attributes\":{},\"id\":\"2866\",\"type\":\"NumberFormatter\"}],\"root_ids\":[\"2849\",\"2898\"]},\"title\":\"Bokeh Application\",\"version\":\"2.2.3\"}};\n",
       "  var render_items = [{\"docid\":\"787c2fb6-199b-4dee-b7ee-c663ed5bff88\",\"root_ids\":[\"2849\"],\"roots\":{\"2849\":\"11380337-c174-4898-a806-7a3aef6242f1\"}}];\n",
       "  root.Bokeh.embed.embed_items_notebook(docs_json, render_items);\n",
       "  }\n",
       "if (root.Bokeh !== undefined) {\n",
       "    embed_document(root);\n",
       "  } else {\n",
       "    var attempts = 0;\n",
       "    var timer = setInterval(function(root) {\n",
       "      if (root.Bokeh !== undefined) {\n",
       "        clearInterval(timer);\n",
       "        embed_document(root);\n",
       "      } else if (document.readyState == \"complete\") {\n",
       "        attempts++;\n",
       "        if (attempts > 100) {\n",
       "          clearInterval(timer);\n",
       "          console.log(\"Bokeh: ERROR: Unable to run BokehJS code because BokehJS library is missing\");\n",
       "        }\n",
       "      }\n",
       "    }, 10, root)\n",
       "  }\n",
       "})(window);</script>"
      ],
      "text/plain": [
       "Tabs\n",
       "    [0] DataFrame(name='orders', value=              ('Data Shape...)\n",
       "    [1] Markdown(str, name='product')"
      ]
     },
     "execution_count": 25,
     "metadata": {
      "application/vnd.holoviews_exec.v0+json": {
       "id": "2849"
      }
     },
     "output_type": "execute_result"
    }
   ],
   "source": [
    "sum1 = eda.get_outliers(orders_df)\n",
    "sum2 = eda.get_outliers(prod_df)\n",
    "\n",
    "display_as_tabs([('orders', sum1), ('product', sum2)])"
   ]
  },
  {
   "cell_type": "markdown",
   "metadata": {},
   "source": [
    "## Health Analysis report\n",
    "\n",
    "Generate a report that has all the above data in a single html. This could be useful to submit to a client"
   ]
  },
  {
   "cell_type": "code",
   "execution_count": 26,
   "metadata": {},
   "outputs": [],
   "source": [
    "from ta_lib.reports.api import summary_report\n",
    "\n",
    "summary_report(orders_df, './orders.html')\n",
    "summary_report(prod_df, './prod.html')"
   ]
  },
  {
   "cell_type": "markdown",
   "metadata": {},
   "source": [
    "prod: https://drive.google.com/file/d/1OJ-bdfFF1KRF9Yn8uT2cghbijOjt00sI/view?usp=sharing\n",
    "\n",
    "orders: https://drive.google.com/file/d/1FMd_RgcUGgSdA_Ggz8hN1yj1Kz7wgehV/view?usp=sharing\n",
    "    "
   ]
  },
  {
   "cell_type": "code",
   "execution_count": null,
   "metadata": {},
   "outputs": [],
   "source": []
  }
 ],
 "metadata": {
  "kernelspec": {
   "display_name": "Python 3",
   "language": "python",
   "name": "python3"
  },
  "language_info": {
   "codemirror_mode": {
    "name": "ipython",
    "version": 3
   },
   "file_extension": ".py",
   "mimetype": "text/x-python",
   "name": "python",
   "nbconvert_exporter": "python",
   "pygments_lexer": "ipython3",
   "version": "3.8.11"
  }
 },
 "nbformat": 4,
 "nbformat_minor": 4
}
